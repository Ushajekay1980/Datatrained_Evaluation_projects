{
 "cells": [
  {
   "cell_type": "markdown",
   "id": "0ad0d1d2",
   "metadata": {},
   "source": [
    "# Evaluation Project - 5\n",
    "Census Income Project\n",
    "Problem Statement:\n",
    "\n",
    "\n",
    "This data was extracted from the 1994 Census bureau database by Ronny Kohavi and Barry Becker (Data Mining and Visualization, Silicon Graphics). A set of reasonably clean records was extracted using the following conditions: ((AAGE>16) && (AGI>100) && (AFNLWGT>1) && (HRSWK>0)). The prediction task is to determine whether a person makes over $50K a year.\n",
    "\n",
    "Description of fnlwgt (final weight)\n",
    "The weights on the Current Population Survey (CPS) files are controlled to independent estimates of the civilian non-institutional population of the US. These are prepared monthly for us by Population Division here at the Census Bureau. We use 3 sets of controls. These are:\n",
    "\n",
    "A single cell estimate of the population 16+ for each state.\n",
    "\n",
    "Controls for Hispanic Origin by age and sex.\n",
    "\n",
    "Controls by Race, age and sex.\n",
    "\n",
    "We use all three sets of controls in our weighting program and \"rake\" through them 6 times so that by the end we come back to all the controls we used. The term estimate refers to population totals derived from CPS by creating \"weighted tallies\" of any specified socio-economic characteristics of the population. People with similar demographic characteristics should have similar weights. There is one important caveat to remember about this statement. That is that since the CPS sample is actually a collection of 51 state samples, each with its own probability of selection, the statement only applies within state.\n",
    "\n",
    "\n",
    "\n",
    "To download the dataset, use the link given below. "
   ]
  },
  {
   "cell_type": "code",
   "execution_count": 2,
   "id": "77ceb1da",
   "metadata": {},
   "outputs": [],
   "source": [
    "import pandas as pd\n",
    "import numpy as np\n",
    "import matplotlib.pyplot as plt\n",
    "import seaborn as sns\n",
    "import warnings\n",
    "warnings.filterwarnings('ignore')"
   ]
  },
  {
   "cell_type": "code",
   "execution_count": 3,
   "id": "f3ef964c",
   "metadata": {},
   "outputs": [
    {
     "data": {
      "text/html": [
       "<div>\n",
       "<style scoped>\n",
       "    .dataframe tbody tr th:only-of-type {\n",
       "        vertical-align: middle;\n",
       "    }\n",
       "\n",
       "    .dataframe tbody tr th {\n",
       "        vertical-align: top;\n",
       "    }\n",
       "\n",
       "    .dataframe thead th {\n",
       "        text-align: right;\n",
       "    }\n",
       "</style>\n",
       "<table border=\"1\" class=\"dataframe\">\n",
       "  <thead>\n",
       "    <tr style=\"text-align: right;\">\n",
       "      <th></th>\n",
       "      <th>Age</th>\n",
       "      <th>Workclass</th>\n",
       "      <th>Fnlwgt</th>\n",
       "      <th>Education</th>\n",
       "      <th>Education_num</th>\n",
       "      <th>Marital_status</th>\n",
       "      <th>Occupation</th>\n",
       "      <th>Relationship</th>\n",
       "      <th>Race</th>\n",
       "      <th>Sex</th>\n",
       "      <th>Capital_gain</th>\n",
       "      <th>Capital_loss</th>\n",
       "      <th>Hours_per_week</th>\n",
       "      <th>Native_country</th>\n",
       "      <th>Income</th>\n",
       "    </tr>\n",
       "  </thead>\n",
       "  <tbody>\n",
       "    <tr>\n",
       "      <th>0</th>\n",
       "      <td>50</td>\n",
       "      <td>Self-emp-not-inc</td>\n",
       "      <td>83311</td>\n",
       "      <td>Bachelors</td>\n",
       "      <td>13</td>\n",
       "      <td>Married-civ-spouse</td>\n",
       "      <td>Exec-managerial</td>\n",
       "      <td>Husband</td>\n",
       "      <td>White</td>\n",
       "      <td>Male</td>\n",
       "      <td>0</td>\n",
       "      <td>0</td>\n",
       "      <td>13</td>\n",
       "      <td>United-States</td>\n",
       "      <td>&lt;=50K</td>\n",
       "    </tr>\n",
       "    <tr>\n",
       "      <th>1</th>\n",
       "      <td>38</td>\n",
       "      <td>Private</td>\n",
       "      <td>215646</td>\n",
       "      <td>HS-grad</td>\n",
       "      <td>9</td>\n",
       "      <td>Divorced</td>\n",
       "      <td>Handlers-cleaners</td>\n",
       "      <td>Not-in-family</td>\n",
       "      <td>White</td>\n",
       "      <td>Male</td>\n",
       "      <td>0</td>\n",
       "      <td>0</td>\n",
       "      <td>40</td>\n",
       "      <td>United-States</td>\n",
       "      <td>&lt;=50K</td>\n",
       "    </tr>\n",
       "    <tr>\n",
       "      <th>2</th>\n",
       "      <td>53</td>\n",
       "      <td>Private</td>\n",
       "      <td>234721</td>\n",
       "      <td>11th</td>\n",
       "      <td>7</td>\n",
       "      <td>Married-civ-spouse</td>\n",
       "      <td>Handlers-cleaners</td>\n",
       "      <td>Husband</td>\n",
       "      <td>Black</td>\n",
       "      <td>Male</td>\n",
       "      <td>0</td>\n",
       "      <td>0</td>\n",
       "      <td>40</td>\n",
       "      <td>United-States</td>\n",
       "      <td>&lt;=50K</td>\n",
       "    </tr>\n",
       "    <tr>\n",
       "      <th>3</th>\n",
       "      <td>28</td>\n",
       "      <td>Private</td>\n",
       "      <td>338409</td>\n",
       "      <td>Bachelors</td>\n",
       "      <td>13</td>\n",
       "      <td>Married-civ-spouse</td>\n",
       "      <td>Prof-specialty</td>\n",
       "      <td>Wife</td>\n",
       "      <td>Black</td>\n",
       "      <td>Female</td>\n",
       "      <td>0</td>\n",
       "      <td>0</td>\n",
       "      <td>40</td>\n",
       "      <td>Cuba</td>\n",
       "      <td>&lt;=50K</td>\n",
       "    </tr>\n",
       "    <tr>\n",
       "      <th>4</th>\n",
       "      <td>37</td>\n",
       "      <td>Private</td>\n",
       "      <td>284582</td>\n",
       "      <td>Masters</td>\n",
       "      <td>14</td>\n",
       "      <td>Married-civ-spouse</td>\n",
       "      <td>Exec-managerial</td>\n",
       "      <td>Wife</td>\n",
       "      <td>White</td>\n",
       "      <td>Female</td>\n",
       "      <td>0</td>\n",
       "      <td>0</td>\n",
       "      <td>40</td>\n",
       "      <td>United-States</td>\n",
       "      <td>&lt;=50K</td>\n",
       "    </tr>\n",
       "    <tr>\n",
       "      <th>...</th>\n",
       "      <td>...</td>\n",
       "      <td>...</td>\n",
       "      <td>...</td>\n",
       "      <td>...</td>\n",
       "      <td>...</td>\n",
       "      <td>...</td>\n",
       "      <td>...</td>\n",
       "      <td>...</td>\n",
       "      <td>...</td>\n",
       "      <td>...</td>\n",
       "      <td>...</td>\n",
       "      <td>...</td>\n",
       "      <td>...</td>\n",
       "      <td>...</td>\n",
       "      <td>...</td>\n",
       "    </tr>\n",
       "    <tr>\n",
       "      <th>32555</th>\n",
       "      <td>27</td>\n",
       "      <td>Private</td>\n",
       "      <td>257302</td>\n",
       "      <td>Assoc-acdm</td>\n",
       "      <td>12</td>\n",
       "      <td>Married-civ-spouse</td>\n",
       "      <td>Tech-support</td>\n",
       "      <td>Wife</td>\n",
       "      <td>White</td>\n",
       "      <td>Female</td>\n",
       "      <td>0</td>\n",
       "      <td>0</td>\n",
       "      <td>38</td>\n",
       "      <td>United-States</td>\n",
       "      <td>&lt;=50K</td>\n",
       "    </tr>\n",
       "    <tr>\n",
       "      <th>32556</th>\n",
       "      <td>40</td>\n",
       "      <td>Private</td>\n",
       "      <td>154374</td>\n",
       "      <td>HS-grad</td>\n",
       "      <td>9</td>\n",
       "      <td>Married-civ-spouse</td>\n",
       "      <td>Machine-op-inspct</td>\n",
       "      <td>Husband</td>\n",
       "      <td>White</td>\n",
       "      <td>Male</td>\n",
       "      <td>0</td>\n",
       "      <td>0</td>\n",
       "      <td>40</td>\n",
       "      <td>United-States</td>\n",
       "      <td>&gt;50K</td>\n",
       "    </tr>\n",
       "    <tr>\n",
       "      <th>32557</th>\n",
       "      <td>58</td>\n",
       "      <td>Private</td>\n",
       "      <td>151910</td>\n",
       "      <td>HS-grad</td>\n",
       "      <td>9</td>\n",
       "      <td>Widowed</td>\n",
       "      <td>Adm-clerical</td>\n",
       "      <td>Unmarried</td>\n",
       "      <td>White</td>\n",
       "      <td>Female</td>\n",
       "      <td>0</td>\n",
       "      <td>0</td>\n",
       "      <td>40</td>\n",
       "      <td>United-States</td>\n",
       "      <td>&lt;=50K</td>\n",
       "    </tr>\n",
       "    <tr>\n",
       "      <th>32558</th>\n",
       "      <td>22</td>\n",
       "      <td>Private</td>\n",
       "      <td>201490</td>\n",
       "      <td>HS-grad</td>\n",
       "      <td>9</td>\n",
       "      <td>Never-married</td>\n",
       "      <td>Adm-clerical</td>\n",
       "      <td>Own-child</td>\n",
       "      <td>White</td>\n",
       "      <td>Male</td>\n",
       "      <td>0</td>\n",
       "      <td>0</td>\n",
       "      <td>20</td>\n",
       "      <td>United-States</td>\n",
       "      <td>&lt;=50K</td>\n",
       "    </tr>\n",
       "    <tr>\n",
       "      <th>32559</th>\n",
       "      <td>52</td>\n",
       "      <td>Self-emp-inc</td>\n",
       "      <td>287927</td>\n",
       "      <td>HS-grad</td>\n",
       "      <td>9</td>\n",
       "      <td>Married-civ-spouse</td>\n",
       "      <td>Exec-managerial</td>\n",
       "      <td>Wife</td>\n",
       "      <td>White</td>\n",
       "      <td>Female</td>\n",
       "      <td>15024</td>\n",
       "      <td>0</td>\n",
       "      <td>40</td>\n",
       "      <td>United-States</td>\n",
       "      <td>&gt;50K</td>\n",
       "    </tr>\n",
       "  </tbody>\n",
       "</table>\n",
       "<p>32560 rows × 15 columns</p>\n",
       "</div>"
      ],
      "text/plain": [
       "       Age          Workclass  Fnlwgt    Education  Education_num  \\\n",
       "0       50   Self-emp-not-inc   83311    Bachelors             13   \n",
       "1       38            Private  215646      HS-grad              9   \n",
       "2       53            Private  234721         11th              7   \n",
       "3       28            Private  338409    Bachelors             13   \n",
       "4       37            Private  284582      Masters             14   \n",
       "...    ...                ...     ...          ...            ...   \n",
       "32555   27            Private  257302   Assoc-acdm             12   \n",
       "32556   40            Private  154374      HS-grad              9   \n",
       "32557   58            Private  151910      HS-grad              9   \n",
       "32558   22            Private  201490      HS-grad              9   \n",
       "32559   52       Self-emp-inc  287927      HS-grad              9   \n",
       "\n",
       "            Marital_status          Occupation    Relationship    Race  \\\n",
       "0       Married-civ-spouse     Exec-managerial         Husband   White   \n",
       "1                 Divorced   Handlers-cleaners   Not-in-family   White   \n",
       "2       Married-civ-spouse   Handlers-cleaners         Husband   Black   \n",
       "3       Married-civ-spouse      Prof-specialty            Wife   Black   \n",
       "4       Married-civ-spouse     Exec-managerial            Wife   White   \n",
       "...                    ...                 ...             ...     ...   \n",
       "32555   Married-civ-spouse        Tech-support            Wife   White   \n",
       "32556   Married-civ-spouse   Machine-op-inspct         Husband   White   \n",
       "32557              Widowed        Adm-clerical       Unmarried   White   \n",
       "32558        Never-married        Adm-clerical       Own-child   White   \n",
       "32559   Married-civ-spouse     Exec-managerial            Wife   White   \n",
       "\n",
       "           Sex  Capital_gain  Capital_loss  Hours_per_week  Native_country  \\\n",
       "0         Male             0             0              13   United-States   \n",
       "1         Male             0             0              40   United-States   \n",
       "2         Male             0             0              40   United-States   \n",
       "3       Female             0             0              40            Cuba   \n",
       "4       Female             0             0              40   United-States   \n",
       "...        ...           ...           ...             ...             ...   \n",
       "32555   Female             0             0              38   United-States   \n",
       "32556     Male             0             0              40   United-States   \n",
       "32557   Female             0             0              40   United-States   \n",
       "32558     Male             0             0              20   United-States   \n",
       "32559   Female         15024             0              40   United-States   \n",
       "\n",
       "       Income  \n",
       "0       <=50K  \n",
       "1       <=50K  \n",
       "2       <=50K  \n",
       "3       <=50K  \n",
       "4       <=50K  \n",
       "...       ...  \n",
       "32555   <=50K  \n",
       "32556    >50K  \n",
       "32557   <=50K  \n",
       "32558   <=50K  \n",
       "32559    >50K  \n",
       "\n",
       "[32560 rows x 15 columns]"
      ]
     },
     "execution_count": 3,
     "metadata": {},
     "output_type": "execute_result"
    }
   ],
   "source": [
    "df=pd.read_csv('census_income.csv')\n",
    "df"
   ]
  },
  {
   "cell_type": "code",
   "execution_count": 4,
   "id": "4cc2b11e",
   "metadata": {},
   "outputs": [
    {
     "data": {
      "text/html": [
       "<div>\n",
       "<style scoped>\n",
       "    .dataframe tbody tr th:only-of-type {\n",
       "        vertical-align: middle;\n",
       "    }\n",
       "\n",
       "    .dataframe tbody tr th {\n",
       "        vertical-align: top;\n",
       "    }\n",
       "\n",
       "    .dataframe thead th {\n",
       "        text-align: right;\n",
       "    }\n",
       "</style>\n",
       "<table border=\"1\" class=\"dataframe\">\n",
       "  <thead>\n",
       "    <tr style=\"text-align: right;\">\n",
       "      <th></th>\n",
       "      <th>Age</th>\n",
       "      <th>Workclass</th>\n",
       "      <th>Fnlwgt</th>\n",
       "      <th>Education</th>\n",
       "      <th>Education_num</th>\n",
       "      <th>Marital_status</th>\n",
       "      <th>Occupation</th>\n",
       "      <th>Relationship</th>\n",
       "      <th>Race</th>\n",
       "      <th>Sex</th>\n",
       "      <th>Capital_gain</th>\n",
       "      <th>Capital_loss</th>\n",
       "      <th>Hours_per_week</th>\n",
       "      <th>Native_country</th>\n",
       "      <th>Income</th>\n",
       "    </tr>\n",
       "  </thead>\n",
       "  <tbody>\n",
       "    <tr>\n",
       "      <th>0</th>\n",
       "      <td>50</td>\n",
       "      <td>Self-emp-not-inc</td>\n",
       "      <td>83311</td>\n",
       "      <td>Bachelors</td>\n",
       "      <td>13</td>\n",
       "      <td>Married-civ-spouse</td>\n",
       "      <td>Exec-managerial</td>\n",
       "      <td>Husband</td>\n",
       "      <td>White</td>\n",
       "      <td>Male</td>\n",
       "      <td>0</td>\n",
       "      <td>0</td>\n",
       "      <td>13</td>\n",
       "      <td>United-States</td>\n",
       "      <td>&lt;=50K</td>\n",
       "    </tr>\n",
       "    <tr>\n",
       "      <th>1</th>\n",
       "      <td>38</td>\n",
       "      <td>Private</td>\n",
       "      <td>215646</td>\n",
       "      <td>HS-grad</td>\n",
       "      <td>9</td>\n",
       "      <td>Divorced</td>\n",
       "      <td>Handlers-cleaners</td>\n",
       "      <td>Not-in-family</td>\n",
       "      <td>White</td>\n",
       "      <td>Male</td>\n",
       "      <td>0</td>\n",
       "      <td>0</td>\n",
       "      <td>40</td>\n",
       "      <td>United-States</td>\n",
       "      <td>&lt;=50K</td>\n",
       "    </tr>\n",
       "    <tr>\n",
       "      <th>2</th>\n",
       "      <td>53</td>\n",
       "      <td>Private</td>\n",
       "      <td>234721</td>\n",
       "      <td>11th</td>\n",
       "      <td>7</td>\n",
       "      <td>Married-civ-spouse</td>\n",
       "      <td>Handlers-cleaners</td>\n",
       "      <td>Husband</td>\n",
       "      <td>Black</td>\n",
       "      <td>Male</td>\n",
       "      <td>0</td>\n",
       "      <td>0</td>\n",
       "      <td>40</td>\n",
       "      <td>United-States</td>\n",
       "      <td>&lt;=50K</td>\n",
       "    </tr>\n",
       "    <tr>\n",
       "      <th>3</th>\n",
       "      <td>28</td>\n",
       "      <td>Private</td>\n",
       "      <td>338409</td>\n",
       "      <td>Bachelors</td>\n",
       "      <td>13</td>\n",
       "      <td>Married-civ-spouse</td>\n",
       "      <td>Prof-specialty</td>\n",
       "      <td>Wife</td>\n",
       "      <td>Black</td>\n",
       "      <td>Female</td>\n",
       "      <td>0</td>\n",
       "      <td>0</td>\n",
       "      <td>40</td>\n",
       "      <td>Cuba</td>\n",
       "      <td>&lt;=50K</td>\n",
       "    </tr>\n",
       "    <tr>\n",
       "      <th>4</th>\n",
       "      <td>37</td>\n",
       "      <td>Private</td>\n",
       "      <td>284582</td>\n",
       "      <td>Masters</td>\n",
       "      <td>14</td>\n",
       "      <td>Married-civ-spouse</td>\n",
       "      <td>Exec-managerial</td>\n",
       "      <td>Wife</td>\n",
       "      <td>White</td>\n",
       "      <td>Female</td>\n",
       "      <td>0</td>\n",
       "      <td>0</td>\n",
       "      <td>40</td>\n",
       "      <td>United-States</td>\n",
       "      <td>&lt;=50K</td>\n",
       "    </tr>\n",
       "  </tbody>\n",
       "</table>\n",
       "</div>"
      ],
      "text/plain": [
       "   Age          Workclass  Fnlwgt   Education  Education_num  \\\n",
       "0   50   Self-emp-not-inc   83311   Bachelors             13   \n",
       "1   38            Private  215646     HS-grad              9   \n",
       "2   53            Private  234721        11th              7   \n",
       "3   28            Private  338409   Bachelors             13   \n",
       "4   37            Private  284582     Masters             14   \n",
       "\n",
       "        Marital_status          Occupation    Relationship    Race      Sex  \\\n",
       "0   Married-civ-spouse     Exec-managerial         Husband   White     Male   \n",
       "1             Divorced   Handlers-cleaners   Not-in-family   White     Male   \n",
       "2   Married-civ-spouse   Handlers-cleaners         Husband   Black     Male   \n",
       "3   Married-civ-spouse      Prof-specialty            Wife   Black   Female   \n",
       "4   Married-civ-spouse     Exec-managerial            Wife   White   Female   \n",
       "\n",
       "   Capital_gain  Capital_loss  Hours_per_week  Native_country  Income  \n",
       "0             0             0              13   United-States   <=50K  \n",
       "1             0             0              40   United-States   <=50K  \n",
       "2             0             0              40   United-States   <=50K  \n",
       "3             0             0              40            Cuba   <=50K  \n",
       "4             0             0              40   United-States   <=50K  "
      ]
     },
     "execution_count": 4,
     "metadata": {},
     "output_type": "execute_result"
    }
   ],
   "source": [
    "#Take the top  5 datas\n",
    "df.head()"
   ]
  },
  {
   "cell_type": "code",
   "execution_count": 5,
   "id": "59a2bded",
   "metadata": {},
   "outputs": [
    {
     "data": {
      "text/plain": [
       "(32560, 15)"
      ]
     },
     "execution_count": 5,
     "metadata": {},
     "output_type": "execute_result"
    }
   ],
   "source": [
    "#Checking the shape\n",
    "df.shape"
   ]
  },
  {
   "cell_type": "code",
   "execution_count": 6,
   "id": "ffc34898",
   "metadata": {},
   "outputs": [
    {
     "name": "stdout",
     "output_type": "stream",
     "text": [
      "<class 'pandas.core.frame.DataFrame'>\n",
      "RangeIndex: 32560 entries, 0 to 32559\n",
      "Data columns (total 15 columns):\n",
      " #   Column          Non-Null Count  Dtype \n",
      "---  ------          --------------  ----- \n",
      " 0   Age             32560 non-null  int64 \n",
      " 1   Workclass       32560 non-null  object\n",
      " 2   Fnlwgt          32560 non-null  int64 \n",
      " 3   Education       32560 non-null  object\n",
      " 4   Education_num   32560 non-null  int64 \n",
      " 5   Marital_status  32560 non-null  object\n",
      " 6   Occupation      32560 non-null  object\n",
      " 7   Relationship    32560 non-null  object\n",
      " 8   Race            32560 non-null  object\n",
      " 9   Sex             32560 non-null  object\n",
      " 10  Capital_gain    32560 non-null  int64 \n",
      " 11  Capital_loss    32560 non-null  int64 \n",
      " 12  Hours_per_week  32560 non-null  int64 \n",
      " 13  Native_country  32560 non-null  object\n",
      " 14  Income          32560 non-null  object\n",
      "dtypes: int64(6), object(9)\n",
      "memory usage: 3.7+ MB\n"
     ]
    }
   ],
   "source": [
    "#Getting more information about dataset\n",
    "df.info()"
   ]
  },
  {
   "cell_type": "markdown",
   "id": "eadefac9",
   "metadata": {},
   "source": [
    "##There are many object (categorical)columns are present ,we need to convert to numerical data"
   ]
  },
  {
   "cell_type": "code",
   "execution_count": 7,
   "id": "44551e5d",
   "metadata": {},
   "outputs": [
    {
     "data": {
      "text/html": [
       "<div>\n",
       "<style scoped>\n",
       "    .dataframe tbody tr th:only-of-type {\n",
       "        vertical-align: middle;\n",
       "    }\n",
       "\n",
       "    .dataframe tbody tr th {\n",
       "        vertical-align: top;\n",
       "    }\n",
       "\n",
       "    .dataframe thead th {\n",
       "        text-align: right;\n",
       "    }\n",
       "</style>\n",
       "<table border=\"1\" class=\"dataframe\">\n",
       "  <thead>\n",
       "    <tr style=\"text-align: right;\">\n",
       "      <th></th>\n",
       "      <th>Age</th>\n",
       "      <th>Fnlwgt</th>\n",
       "      <th>Education_num</th>\n",
       "      <th>Capital_gain</th>\n",
       "      <th>Capital_loss</th>\n",
       "      <th>Hours_per_week</th>\n",
       "    </tr>\n",
       "  </thead>\n",
       "  <tbody>\n",
       "    <tr>\n",
       "      <th>count</th>\n",
       "      <td>32560.000000</td>\n",
       "      <td>3.256000e+04</td>\n",
       "      <td>32560.000000</td>\n",
       "      <td>32560.000000</td>\n",
       "      <td>32560.000000</td>\n",
       "      <td>32560.000000</td>\n",
       "    </tr>\n",
       "    <tr>\n",
       "      <th>mean</th>\n",
       "      <td>38.581634</td>\n",
       "      <td>1.897818e+05</td>\n",
       "      <td>10.080590</td>\n",
       "      <td>1077.615172</td>\n",
       "      <td>87.306511</td>\n",
       "      <td>40.437469</td>\n",
       "    </tr>\n",
       "    <tr>\n",
       "      <th>std</th>\n",
       "      <td>13.640642</td>\n",
       "      <td>1.055498e+05</td>\n",
       "      <td>2.572709</td>\n",
       "      <td>7385.402999</td>\n",
       "      <td>402.966116</td>\n",
       "      <td>12.347618</td>\n",
       "    </tr>\n",
       "    <tr>\n",
       "      <th>min</th>\n",
       "      <td>17.000000</td>\n",
       "      <td>1.228500e+04</td>\n",
       "      <td>1.000000</td>\n",
       "      <td>0.000000</td>\n",
       "      <td>0.000000</td>\n",
       "      <td>1.000000</td>\n",
       "    </tr>\n",
       "    <tr>\n",
       "      <th>25%</th>\n",
       "      <td>28.000000</td>\n",
       "      <td>1.178315e+05</td>\n",
       "      <td>9.000000</td>\n",
       "      <td>0.000000</td>\n",
       "      <td>0.000000</td>\n",
       "      <td>40.000000</td>\n",
       "    </tr>\n",
       "    <tr>\n",
       "      <th>50%</th>\n",
       "      <td>37.000000</td>\n",
       "      <td>1.783630e+05</td>\n",
       "      <td>10.000000</td>\n",
       "      <td>0.000000</td>\n",
       "      <td>0.000000</td>\n",
       "      <td>40.000000</td>\n",
       "    </tr>\n",
       "    <tr>\n",
       "      <th>75%</th>\n",
       "      <td>48.000000</td>\n",
       "      <td>2.370545e+05</td>\n",
       "      <td>12.000000</td>\n",
       "      <td>0.000000</td>\n",
       "      <td>0.000000</td>\n",
       "      <td>45.000000</td>\n",
       "    </tr>\n",
       "    <tr>\n",
       "      <th>max</th>\n",
       "      <td>90.000000</td>\n",
       "      <td>1.484705e+06</td>\n",
       "      <td>16.000000</td>\n",
       "      <td>99999.000000</td>\n",
       "      <td>4356.000000</td>\n",
       "      <td>99.000000</td>\n",
       "    </tr>\n",
       "  </tbody>\n",
       "</table>\n",
       "</div>"
      ],
      "text/plain": [
       "                Age        Fnlwgt  Education_num  Capital_gain  Capital_loss  \\\n",
       "count  32560.000000  3.256000e+04   32560.000000  32560.000000  32560.000000   \n",
       "mean      38.581634  1.897818e+05      10.080590   1077.615172     87.306511   \n",
       "std       13.640642  1.055498e+05       2.572709   7385.402999    402.966116   \n",
       "min       17.000000  1.228500e+04       1.000000      0.000000      0.000000   \n",
       "25%       28.000000  1.178315e+05       9.000000      0.000000      0.000000   \n",
       "50%       37.000000  1.783630e+05      10.000000      0.000000      0.000000   \n",
       "75%       48.000000  2.370545e+05      12.000000      0.000000      0.000000   \n",
       "max       90.000000  1.484705e+06      16.000000  99999.000000   4356.000000   \n",
       "\n",
       "       Hours_per_week  \n",
       "count    32560.000000  \n",
       "mean        40.437469  \n",
       "std         12.347618  \n",
       "min          1.000000  \n",
       "25%         40.000000  \n",
       "50%         40.000000  \n",
       "75%         45.000000  \n",
       "max         99.000000  "
      ]
     },
     "execution_count": 7,
     "metadata": {},
     "output_type": "execute_result"
    }
   ],
   "source": [
    "#Getting statical information \n",
    "df.describe()"
   ]
  },
  {
   "cell_type": "code",
   "execution_count": 8,
   "id": "bbeb9a19",
   "metadata": {},
   "outputs": [
    {
     "data": {
      "text/plain": [
       "Age               0\n",
       "Workclass         0\n",
       "Fnlwgt            0\n",
       "Education         0\n",
       "Education_num     0\n",
       "Marital_status    0\n",
       "Occupation        0\n",
       "Relationship      0\n",
       "Race              0\n",
       "Sex               0\n",
       "Capital_gain      0\n",
       "Capital_loss      0\n",
       "Hours_per_week    0\n",
       "Native_country    0\n",
       "Income            0\n",
       "dtype: int64"
      ]
     },
     "execution_count": 8,
     "metadata": {},
     "output_type": "execute_result"
    }
   ],
   "source": [
    "#Checking null values\n",
    "df.isnull().sum()"
   ]
  },
  {
   "cell_type": "markdown",
   "id": "c12f42ab",
   "metadata": {},
   "source": [
    "There are no null values present in this data set."
   ]
  },
  {
   "cell_type": "code",
   "execution_count": 9,
   "id": "ef53ee1a",
   "metadata": {},
   "outputs": [
    {
     "data": {
      "text/plain": [
       "24"
      ]
     },
     "execution_count": 9,
     "metadata": {},
     "output_type": "execute_result"
    }
   ],
   "source": [
    "sum(df.duplicated())"
   ]
  },
  {
   "cell_type": "markdown",
   "id": "d0dd7d7b",
   "metadata": {},
   "source": [
    "There are 24 duplicated values present in this datasets and we need to drop the duplicate values.\n"
   ]
  },
  {
   "cell_type": "code",
   "execution_count": 10,
   "id": "0c129563",
   "metadata": {},
   "outputs": [
    {
     "data": {
      "text/html": [
       "<div>\n",
       "<style scoped>\n",
       "    .dataframe tbody tr th:only-of-type {\n",
       "        vertical-align: middle;\n",
       "    }\n",
       "\n",
       "    .dataframe tbody tr th {\n",
       "        vertical-align: top;\n",
       "    }\n",
       "\n",
       "    .dataframe thead th {\n",
       "        text-align: right;\n",
       "    }\n",
       "</style>\n",
       "<table border=\"1\" class=\"dataframe\">\n",
       "  <thead>\n",
       "    <tr style=\"text-align: right;\">\n",
       "      <th></th>\n",
       "      <th>Age</th>\n",
       "      <th>Workclass</th>\n",
       "      <th>Fnlwgt</th>\n",
       "      <th>Education</th>\n",
       "      <th>Education_num</th>\n",
       "      <th>Marital_status</th>\n",
       "      <th>Occupation</th>\n",
       "      <th>Relationship</th>\n",
       "      <th>Race</th>\n",
       "      <th>Sex</th>\n",
       "      <th>Capital_gain</th>\n",
       "      <th>Capital_loss</th>\n",
       "      <th>Hours_per_week</th>\n",
       "      <th>Native_country</th>\n",
       "      <th>Income</th>\n",
       "    </tr>\n",
       "  </thead>\n",
       "  <tbody>\n",
       "    <tr>\n",
       "      <th>0</th>\n",
       "      <td>50</td>\n",
       "      <td>Self-emp-not-inc</td>\n",
       "      <td>83311</td>\n",
       "      <td>Bachelors</td>\n",
       "      <td>13</td>\n",
       "      <td>Married-civ-spouse</td>\n",
       "      <td>Exec-managerial</td>\n",
       "      <td>Husband</td>\n",
       "      <td>White</td>\n",
       "      <td>Male</td>\n",
       "      <td>0</td>\n",
       "      <td>0</td>\n",
       "      <td>13</td>\n",
       "      <td>United-States</td>\n",
       "      <td>&lt;=50K</td>\n",
       "    </tr>\n",
       "    <tr>\n",
       "      <th>1</th>\n",
       "      <td>38</td>\n",
       "      <td>Private</td>\n",
       "      <td>215646</td>\n",
       "      <td>HS-grad</td>\n",
       "      <td>9</td>\n",
       "      <td>Divorced</td>\n",
       "      <td>Handlers-cleaners</td>\n",
       "      <td>Not-in-family</td>\n",
       "      <td>White</td>\n",
       "      <td>Male</td>\n",
       "      <td>0</td>\n",
       "      <td>0</td>\n",
       "      <td>40</td>\n",
       "      <td>United-States</td>\n",
       "      <td>&lt;=50K</td>\n",
       "    </tr>\n",
       "    <tr>\n",
       "      <th>2</th>\n",
       "      <td>53</td>\n",
       "      <td>Private</td>\n",
       "      <td>234721</td>\n",
       "      <td>11th</td>\n",
       "      <td>7</td>\n",
       "      <td>Married-civ-spouse</td>\n",
       "      <td>Handlers-cleaners</td>\n",
       "      <td>Husband</td>\n",
       "      <td>Black</td>\n",
       "      <td>Male</td>\n",
       "      <td>0</td>\n",
       "      <td>0</td>\n",
       "      <td>40</td>\n",
       "      <td>United-States</td>\n",
       "      <td>&lt;=50K</td>\n",
       "    </tr>\n",
       "    <tr>\n",
       "      <th>3</th>\n",
       "      <td>28</td>\n",
       "      <td>Private</td>\n",
       "      <td>338409</td>\n",
       "      <td>Bachelors</td>\n",
       "      <td>13</td>\n",
       "      <td>Married-civ-spouse</td>\n",
       "      <td>Prof-specialty</td>\n",
       "      <td>Wife</td>\n",
       "      <td>Black</td>\n",
       "      <td>Female</td>\n",
       "      <td>0</td>\n",
       "      <td>0</td>\n",
       "      <td>40</td>\n",
       "      <td>Cuba</td>\n",
       "      <td>&lt;=50K</td>\n",
       "    </tr>\n",
       "    <tr>\n",
       "      <th>4</th>\n",
       "      <td>37</td>\n",
       "      <td>Private</td>\n",
       "      <td>284582</td>\n",
       "      <td>Masters</td>\n",
       "      <td>14</td>\n",
       "      <td>Married-civ-spouse</td>\n",
       "      <td>Exec-managerial</td>\n",
       "      <td>Wife</td>\n",
       "      <td>White</td>\n",
       "      <td>Female</td>\n",
       "      <td>0</td>\n",
       "      <td>0</td>\n",
       "      <td>40</td>\n",
       "      <td>United-States</td>\n",
       "      <td>&lt;=50K</td>\n",
       "    </tr>\n",
       "  </tbody>\n",
       "</table>\n",
       "</div>"
      ],
      "text/plain": [
       "   Age          Workclass  Fnlwgt   Education  Education_num  \\\n",
       "0   50   Self-emp-not-inc   83311   Bachelors             13   \n",
       "1   38            Private  215646     HS-grad              9   \n",
       "2   53            Private  234721        11th              7   \n",
       "3   28            Private  338409   Bachelors             13   \n",
       "4   37            Private  284582     Masters             14   \n",
       "\n",
       "        Marital_status          Occupation    Relationship    Race      Sex  \\\n",
       "0   Married-civ-spouse     Exec-managerial         Husband   White     Male   \n",
       "1             Divorced   Handlers-cleaners   Not-in-family   White     Male   \n",
       "2   Married-civ-spouse   Handlers-cleaners         Husband   Black     Male   \n",
       "3   Married-civ-spouse      Prof-specialty            Wife   Black   Female   \n",
       "4   Married-civ-spouse     Exec-managerial            Wife   White   Female   \n",
       "\n",
       "   Capital_gain  Capital_loss  Hours_per_week  Native_country  Income  \n",
       "0             0             0              13   United-States   <=50K  \n",
       "1             0             0              40   United-States   <=50K  \n",
       "2             0             0              40   United-States   <=50K  \n",
       "3             0             0              40            Cuba   <=50K  \n",
       "4             0             0              40   United-States   <=50K  "
      ]
     },
     "execution_count": 10,
     "metadata": {},
     "output_type": "execute_result"
    }
   ],
   "source": [
    "df1=df.drop_duplicates()\n",
    "df1.head()"
   ]
  },
  {
   "cell_type": "code",
   "execution_count": 11,
   "id": "4dd1d65b",
   "metadata": {},
   "outputs": [
    {
     "data": {
      "text/plain": [
       "(32536, 15)"
      ]
     },
     "execution_count": 11,
     "metadata": {},
     "output_type": "execute_result"
    }
   ],
   "source": [
    "df1.shape"
   ]
  },
  {
   "cell_type": "code",
   "execution_count": 12,
   "id": "c72f3126",
   "metadata": {},
   "outputs": [
    {
     "data": {
      "image/png": "[encoded data removed]",
      "text/plain": [
       "<Figure size 864x864 with 6 Axes>"
      ]
     },
     "metadata": {
      "needs_background": "light"
     },
     "output_type": "display_data"
    }
   ],
   "source": [
    "df1.hist(figsize=(12,12),bins=15)\n",
    "plt.show()\n",
    "\n"
   ]
  },
  {
   "cell_type": "markdown",
   "id": "e300f934",
   "metadata": {},
   "source": [
    "final weight has skewedright side and ,education num column has leftside skewness and , we can see max number of skewness in capital loss and capital gain and,age column has normal distribution and hours per week has slightly normal distributed."
   ]
  },
  {
   "cell_type": "code",
   "execution_count": 13,
   "id": "af74ff89",
   "metadata": {},
   "outputs": [
    {
     "name": "stdout",
     "output_type": "stream",
     "text": [
      "<class 'pandas.core.frame.DataFrame'>\n",
      "Int64Index: 32536 entries, 0 to 32559\n",
      "Data columns (total 15 columns):\n",
      " #   Column          Non-Null Count  Dtype \n",
      "---  ------          --------------  ----- \n",
      " 0   Age             32536 non-null  int64 \n",
      " 1   Workclass       32536 non-null  object\n",
      " 2   Fnlwgt          32536 non-null  int64 \n",
      " 3   Education       32536 non-null  object\n",
      " 4   Education_num   32536 non-null  int64 \n",
      " 5   Marital_status  32536 non-null  object\n",
      " 6   Occupation      32536 non-null  object\n",
      " 7   Relationship    32536 non-null  object\n",
      " 8   Race            32536 non-null  object\n",
      " 9   Sex             32536 non-null  object\n",
      " 10  Capital_gain    32536 non-null  int64 \n",
      " 11  Capital_loss    32536 non-null  int64 \n",
      " 12  Hours_per_week  32536 non-null  int64 \n",
      " 13  Native_country  32536 non-null  object\n",
      " 14  Income          32536 non-null  object\n",
      "dtypes: int64(6), object(9)\n",
      "memory usage: 4.0+ MB\n"
     ]
    }
   ],
   "source": [
    "df1.info()"
   ]
  },
  {
   "cell_type": "code",
   "execution_count": 14,
   "id": "9ec84978",
   "metadata": {},
   "outputs": [
    {
     "data": {
      "text/plain": [
       "Age               0\n",
       "Workclass         0\n",
       "Fnlwgt            0\n",
       "Education         0\n",
       "Education_num     0\n",
       "Marital_status    0\n",
       "Occupation        0\n",
       "Relationship      0\n",
       "Race              0\n",
       "Sex               0\n",
       "Capital_gain      0\n",
       "Capital_loss      0\n",
       "Hours_per_week    0\n",
       "Native_country    0\n",
       "Income            0\n",
       "dtype: int64"
      ]
     },
     "execution_count": 14,
     "metadata": {},
     "output_type": "execute_result"
    }
   ],
   "source": [
    "df1.isnull().sum()"
   ]
  },
  {
   "cell_type": "code",
   "execution_count": 15,
   "id": "0149268a",
   "metadata": {},
   "outputs": [
    {
     "data": {
      "text/plain": [
       "<AxesSubplot:>"
      ]
     },
     "execution_count": 15,
     "metadata": {},
     "output_type": "execute_result"
    },
    {
     "data": {
      "image/png": "[encoded data removed]",
      "text/plain": [
       "<Figure size 432x288 with 2 Axes>"
      ]
     },
     "metadata": {
      "needs_background": "light"
     },
     "output_type": "display_data"
    }
   ],
   "source": [
    "sns.heatmap(df1.isnull())"
   ]
  },
  {
   "cell_type": "code",
   "execution_count": 16,
   "id": "b2a12c77",
   "metadata": {},
   "outputs": [
    {
     "data": {
      "text/plain": [
       "Age                  73\n",
       "Workclass             9\n",
       "Fnlwgt            21647\n",
       "Education            16\n",
       "Education_num        16\n",
       "Marital_status        7\n",
       "Occupation           15\n",
       "Relationship          6\n",
       "Race                  5\n",
       "Sex                   2\n",
       "Capital_gain        119\n",
       "Capital_loss         92\n",
       "Hours_per_week       94\n",
       "Native_country       42\n",
       "Income                2\n",
       "dtype: int64"
      ]
     },
     "execution_count": 16,
     "metadata": {},
     "output_type": "execute_result"
    }
   ],
   "source": [
    "df1.nunique()"
   ]
  },
  {
   "cell_type": "markdown",
   "id": "aaa423f1",
   "metadata": {},
   "source": [
    "There are no unique are present"
   ]
  },
  {
   "cell_type": "markdown",
   "id": "52d9e60e",
   "metadata": {},
   "source": [
    "# Exploratory data analysis"
   ]
  },
  {
   "cell_type": "code",
   "execution_count": 17,
   "id": "988e9273",
   "metadata": {},
   "outputs": [
    {
     "data": {
      "text/plain": [
       "<AxesSubplot:xlabel='Income', ylabel='count'>"
      ]
     },
     "execution_count": 17,
     "metadata": {},
     "output_type": "execute_result"
    },
    {
     "data": {
      "image/png": "[encoded data removed]",
      "text/plain": [
       "<Figure size 432x288 with 1 Axes>"
      ]
     },
     "metadata": {
      "needs_background": "light"
     },
     "output_type": "display_data"
    }
   ],
   "source": [
    "#let's visualize the count of taret variable using seaborn\n",
    "sns.countplot(df1['Income'])\n"
   ]
  },
  {
   "cell_type": "markdown",
   "id": "f9d38942",
   "metadata": {},
   "source": [
    "Our target column data is imbalanced we do balnce the data after some time"
   ]
  },
  {
   "cell_type": "code",
   "execution_count": 18,
   "id": "463260b6",
   "metadata": {},
   "outputs": [
    {
     "data": {
      "text/plain": [
       " Private             22673\n",
       " Self-emp-not-inc     2540\n",
       " Local-gov            2093\n",
       " ?                    1836\n",
       " State-gov            1297\n",
       " Self-emp-inc         1116\n",
       " Federal-gov           960\n",
       " Without-pay            14\n",
       " Never-worked            7\n",
       "Name: Workclass, dtype: int64"
      ]
     },
     "execution_count": 18,
     "metadata": {},
     "output_type": "execute_result"
    }
   ],
   "source": [
    "df1['Workclass'].value_counts()"
   ]
  },
  {
   "cell_type": "code",
   "execution_count": 19,
   "id": "687cbbde",
   "metadata": {},
   "outputs": [
    {
     "data": {
      "text/plain": [
       "<AxesSubplot:xlabel='Workclass', ylabel='count'>"
      ]
     },
     "execution_count": 19,
     "metadata": {},
     "output_type": "execute_result"
    },
    {
     "data": {
      "image/png": "[encoded data removed]",
      "text/plain": [
       "<Figure size 720x504 with 1 Axes>"
      ]
     },
     "metadata": {
      "needs_background": "light"
     },
     "output_type": "display_data"
    }
   ],
   "source": [
    "#Lets visualize the count of workclass using seaborn\n",
    "plt.figure(figsize=(10,7))\n",
    "sns.countplot(x='Workclass',hue='Income',data=df1)\n",
    "\n"
   ]
  },
  {
   "cell_type": "markdown",
   "id": "d1f6b2d8",
   "metadata": {},
   "source": [
    "As per the above plot, we observed that most of the people workclass are private in census are lessthan 50k get around 17500 and remaining 4673 something get less than 50k census income and remaing all data worlplass are in range between 0 to 2000 and last two are least workplass in census_income one more thing we observed a quitionmark(?) what it is in this column and it has some counts of range between 0 to 2000 in that column so we think this will not be considered as missing values in the dataset as it might be the people would have missed this field or choose not to disclose."
   ]
  },
  {
   "cell_type": "code",
   "execution_count": 20,
   "id": "d285812b",
   "metadata": {},
   "outputs": [
    {
     "data": {
      "text/plain": [
       " HS-grad         10494\n",
       " Some-college     7282\n",
       " Bachelors        5352\n",
       " Masters          1722\n",
       " Assoc-voc        1382\n",
       " 11th             1175\n",
       " Assoc-acdm       1067\n",
       " 10th              933\n",
       " 7th-8th           645\n",
       " Prof-school       576\n",
       " 9th               514\n",
       " 12th              433\n",
       " Doctorate         413\n",
       " 5th-6th           332\n",
       " 1st-4th           166\n",
       " Preschool          50\n",
       "Name: Education, dtype: int64"
      ]
     },
     "execution_count": 20,
     "metadata": {},
     "output_type": "execute_result"
    }
   ],
   "source": [
    "df1['Education'].value_counts()"
   ]
  },
  {
   "cell_type": "code",
   "execution_count": 21,
   "id": "a746c70c",
   "metadata": {},
   "outputs": [
    {
     "data": {
      "text/plain": [
       "<AxesSubplot:xlabel='Education', ylabel='count'>"
      ]
     },
     "execution_count": 21,
     "metadata": {},
     "output_type": "execute_result"
    },
    {
     "data": {
      "image/png": "[encoded data removed]",
      "text/plain": [
       "<Figure size 1440x720 with 1 Axes>"
      ]
     },
     "metadata": {
      "needs_background": "light"
     },
     "output_type": "display_data"
    }
   ],
   "source": [
    "#Lets visualize the count of workclass using seaborn\n",
    "plt.figure(figsize=(20,10))\n",
    "sns.countplot(x='Education',hue='Income',data=df1)"
   ]
  },
  {
   "cell_type": "markdown",
   "id": "ddb9f4a0",
   "metadata": {},
   "source": [
    "Most of the people has their education of \"HS-grad\" get less than 50k census income and some have been to completed some_college get most less than 50k above show count bar and few has completed the bachelors degree get income most are lessthan 50k"
   ]
  },
  {
   "cell_type": "code",
   "execution_count": 22,
   "id": "68e2bb53",
   "metadata": {},
   "outputs": [
    {
     "data": {
      "text/plain": [
       " Married-civ-spouse       14970\n",
       " Never-married            10666\n",
       " Divorced                  4441\n",
       " Separated                 1025\n",
       " Widowed                    993\n",
       " Married-spouse-absent      418\n",
       " Married-AF-spouse           23\n",
       "Name: Marital_status, dtype: int64"
      ]
     },
     "execution_count": 22,
     "metadata": {},
     "output_type": "execute_result"
    }
   ],
   "source": [
    "df1['Marital_status'].value_counts()"
   ]
  },
  {
   "cell_type": "code",
   "execution_count": 23,
   "id": "66763e50",
   "metadata": {},
   "outputs": [
    {
     "data": {
      "text/plain": [
       "<AxesSubplot:xlabel='Marital_status', ylabel='count'>"
      ]
     },
     "execution_count": 23,
     "metadata": {},
     "output_type": "execute_result"
    },
    {
     "data": {
      "image/png": "[encoded data removed]",
      "text/plain": [
       "<Figure size 1440x720 with 1 Axes>"
      ]
     },
     "metadata": {
      "needs_background": "light"
     },
     "output_type": "display_data"
    }
   ],
   "source": [
    "#Lets visualize the count of workclass using seaborn\n",
    "plt.figure(figsize=(20,10))\n",
    "sns.countplot(x='Marital_status',hue='Income',data=df1)"
   ]
  },
  {
   "cell_type": "markdown",
   "id": "5ceb0a64",
   "metadata": {},
   "source": [
    "Most of the people are married vid spouse in census income and in that above 8k+ are get less than 50k and b/n 6000 to 6500 are get greater than 50k in terms of marital status and some are never married are get less than 50k in above count shows and few are divorced and we can see very few for rest of them like widowed,separated as per the above bar plot"
   ]
  },
  {
   "cell_type": "code",
   "execution_count": 24,
   "id": "2cffa0e9",
   "metadata": {},
   "outputs": [
    {
     "data": {
      "text/plain": [
       " Prof-specialty       4136\n",
       " Craft-repair         4094\n",
       " Exec-managerial      4065\n",
       " Adm-clerical         3767\n",
       " Sales                3650\n",
       " Other-service        3291\n",
       " Machine-op-inspct    2000\n",
       " ?                    1843\n",
       " Transport-moving     1597\n",
       " Handlers-cleaners    1369\n",
       " Farming-fishing       992\n",
       " Tech-support          927\n",
       " Protective-serv       649\n",
       " Priv-house-serv       147\n",
       " Armed-Forces            9\n",
       "Name: Occupation, dtype: int64"
      ]
     },
     "execution_count": 24,
     "metadata": {},
     "output_type": "execute_result"
    }
   ],
   "source": [
    "df1['Occupation'].value_counts()"
   ]
  },
  {
   "cell_type": "code",
   "execution_count": 25,
   "id": "4e7f19cc",
   "metadata": {},
   "outputs": [
    {
     "data": {
      "text/plain": [
       "<AxesSubplot:xlabel='Occupation', ylabel='count'>"
      ]
     },
     "execution_count": 25,
     "metadata": {},
     "output_type": "execute_result"
    },
    {
     "data": {
      "image/png": "[encoded data removed]",
      "text/plain": [
       "<Figure size 1440x720 with 1 Axes>"
      ]
     },
     "metadata": {
      "needs_background": "light"
     },
     "output_type": "display_data"
    }
   ],
   "source": [
    "#Lets visualize the count of workclass using seaborn\n",
    "plt.figure(figsize=(20,10))\n",
    "sns.countplot(x='Occupation',hue='Income',data=df1)"
   ]
  },
  {
   "cell_type": "markdown",
   "id": "49d30e5b",
   "metadata": {},
   "source": [
    "As per the count plot, we observed that most of the people occupation are belongs to other-service, craft -repair, sales ,Adm-clerical,Prof-speciality,Exec-managerial,and these all occupation peoples are get less than 50k and we can see very very few in armed forces and priv-hosue servant."
   ]
  },
  {
   "cell_type": "code",
   "execution_count": 26,
   "id": "0bf41d9b",
   "metadata": {},
   "outputs": [
    {
     "data": {
      "text/plain": [
       " Husband           13187\n",
       " Not-in-family      8291\n",
       " Own-child          5064\n",
       " Unmarried          3445\n",
       " Wife               1568\n",
       " Other-relative      981\n",
       "Name: Relationship, dtype: int64"
      ]
     },
     "execution_count": 26,
     "metadata": {},
     "output_type": "execute_result"
    }
   ],
   "source": [
    "df1['Relationship'].value_counts()"
   ]
  },
  {
   "cell_type": "code",
   "execution_count": 27,
   "id": "8ca7fb32",
   "metadata": {},
   "outputs": [
    {
     "data": {
      "text/plain": [
       "<AxesSubplot:xlabel='Relationship', ylabel='count'>"
      ]
     },
     "execution_count": 27,
     "metadata": {},
     "output_type": "execute_result"
    },
    {
     "data": {
      "image/png": "[encoded data removed]",
      "text/plain": [
       "<Figure size 1440x720 with 1 Axes>"
      ]
     },
     "metadata": {
      "needs_background": "light"
     },
     "output_type": "display_data"
    }
   ],
   "source": [
    "#Lets visualize the count of workclass using seaborn\n",
    "plt.figure(figsize=(20,10))\n",
    "sns.countplot(x='Relationship',hue='Income',data=df1)"
   ]
  },
  {
   "cell_type": "markdown",
   "id": "6fd5560f",
   "metadata": {},
   "source": [
    "Most of the people relationships are \"Husband\" is having high in counts and it might be the census is taken with the head of the family relationship with that family."
   ]
  },
  {
   "cell_type": "code",
   "execution_count": 28,
   "id": "34c39c2d",
   "metadata": {},
   "outputs": [
    {
     "data": {
      "text/plain": [
       " White                 27794\n",
       " Black                  3122\n",
       " Asian-Pac-Islander     1038\n",
       " Amer-Indian-Eskimo      311\n",
       " Other                   271\n",
       "Name: Race, dtype: int64"
      ]
     },
     "execution_count": 28,
     "metadata": {},
     "output_type": "execute_result"
    }
   ],
   "source": [
    "df1['Race'].value_counts()"
   ]
  },
  {
   "cell_type": "code",
   "execution_count": 29,
   "id": "361f819a",
   "metadata": {},
   "outputs": [
    {
     "data": {
      "text/plain": [
       "<AxesSubplot:xlabel='Race', ylabel='count'>"
      ]
     },
     "execution_count": 29,
     "metadata": {},
     "output_type": "execute_result"
    },
    {
     "data": {
      "image/png": "[encoded data removed]",
      "text/plain": [
       "<Figure size 1440x720 with 1 Axes>"
      ]
     },
     "metadata": {
      "needs_background": "light"
     },
     "output_type": "display_data"
    }
   ],
   "source": [
    "#Lets visualize the count of workclass using seaborn\n",
    "plt.figure(figsize=(20,10))\n",
    "sns.countplot(x='Race',hue='Income',data=df1)"
   ]
  },
  {
   "cell_type": "markdown",
   "id": "d376894a",
   "metadata": {},
   "source": [
    "White people are more in terms of race in census and there are people take less than 50k census-income"
   ]
  },
  {
   "cell_type": "code",
   "execution_count": 30,
   "id": "3c49dff7",
   "metadata": {},
   "outputs": [
    {
     "data": {
      "text/plain": [
       " Male      21774\n",
       " Female    10762\n",
       "Name: Sex, dtype: int64"
      ]
     },
     "execution_count": 30,
     "metadata": {},
     "output_type": "execute_result"
    }
   ],
   "source": [
    "df1['Sex'].value_counts()"
   ]
  },
  {
   "cell_type": "code",
   "execution_count": 31,
   "id": "73195c9a",
   "metadata": {},
   "outputs": [
    {
     "data": {
      "text/plain": [
       "<AxesSubplot:xlabel='Sex', ylabel='count'>"
      ]
     },
     "execution_count": 31,
     "metadata": {},
     "output_type": "execute_result"
    },
    {
     "data": {
      "image/png": "[encoded data removed]",
      "text/plain": [
       "<Figure size 1440x720 with 1 Axes>"
      ]
     },
     "metadata": {
      "needs_background": "light"
     },
     "output_type": "display_data"
    }
   ],
   "source": [
    "#Lets visualize the count of workclass using seaborn\n",
    "plt.figure(figsize=(20,10))\n",
    "sns.countplot(x='Sex',hue='Income',data=df1)"
   ]
  },
  {
   "cell_type": "markdown",
   "id": "b59d4e7b",
   "metadata": {},
   "source": [
    "Male is more in gender than Female and male are more count get leess than 50k census-income as per the count plot"
   ]
  },
  {
   "cell_type": "code",
   "execution_count": 32,
   "id": "080904be",
   "metadata": {},
   "outputs": [
    {
     "data": {
      "text/plain": [
       " United-States                 29152\n",
       " Mexico                          639\n",
       " ?                               582\n",
       " Philippines                     198\n",
       " Germany                         137\n",
       " Canada                          121\n",
       " Puerto-Rico                     114\n",
       " El-Salvador                     106\n",
       " India                           100\n",
       " Cuba                             95\n",
       " England                          90\n",
       " Jamaica                          81\n",
       " South                            80\n",
       " China                            75\n",
       " Italy                            73\n",
       " Dominican-Republic               70\n",
       " Vietnam                          67\n",
       " Japan                            62\n",
       " Guatemala                        62\n",
       " Poland                           60\n",
       " Columbia                         59\n",
       " Taiwan                           51\n",
       " Haiti                            44\n",
       " Iran                             43\n",
       " Portugal                         37\n",
       " Nicaragua                        34\n",
       " Peru                             31\n",
       " France                           29\n",
       " Greece                           29\n",
       " Ecuador                          28\n",
       " Ireland                          24\n",
       " Hong                             20\n",
       " Trinadad&Tobago                  19\n",
       " Cambodia                         19\n",
       " Laos                             18\n",
       " Thailand                         18\n",
       " Yugoslavia                       16\n",
       " Outlying-US(Guam-USVI-etc)       14\n",
       " Honduras                         13\n",
       " Hungary                          13\n",
       " Scotland                         12\n",
       " Holand-Netherlands                1\n",
       "Name: Native_country, dtype: int64"
      ]
     },
     "execution_count": 32,
     "metadata": {},
     "output_type": "execute_result"
    }
   ],
   "source": [
    "df1['Native_country'].value_counts()"
   ]
  },
  {
   "cell_type": "code",
   "execution_count": 33,
   "id": "935d8467",
   "metadata": {},
   "outputs": [
    {
     "data": {
      "text/plain": [
       "<AxesSubplot:xlabel='Native_country', ylabel='count'>"
      ]
     },
     "execution_count": 33,
     "metadata": {},
     "output_type": "execute_result"
    },
    {
     "data": {
      "image/png": "[encoded data removed]",
      "text/plain": [
       "<Figure size 1440x720 with 1 Axes>"
      ]
     },
     "metadata": {
      "needs_background": "light"
     },
     "output_type": "display_data"
    }
   ],
   "source": [
    "#Lets visualize the count of workclass using seaborn\n",
    "plt.figure(figsize=(20,10))\n",
    "sns.countplot(x='Native_country',hue='Income',data=df1)"
   ]
  },
  {
   "cell_type": "markdown",
   "id": "24558a95",
   "metadata": {},
   "source": [
    "Most of people who has given this census less than 50k are more count belongs to United States.\n",
    "\n",
    "Now do divide categorical and numerical coumns"
   ]
  },
  {
   "cell_type": "code",
   "execution_count": 34,
   "id": "ca6728f2",
   "metadata": {},
   "outputs": [],
   "source": [
    "num_col = df1.select_dtypes(exclude = object)\n",
    "cat_col = df1.select_dtypes(include = object)\n"
   ]
  },
  {
   "cell_type": "code",
   "execution_count": 35,
   "id": "0c40598a",
   "metadata": {},
   "outputs": [
    {
     "data": {
      "text/html": [
       "<div>\n",
       "<style scoped>\n",
       "    .dataframe tbody tr th:only-of-type {\n",
       "        vertical-align: middle;\n",
       "    }\n",
       "\n",
       "    .dataframe tbody tr th {\n",
       "        vertical-align: top;\n",
       "    }\n",
       "\n",
       "    .dataframe thead th {\n",
       "        text-align: right;\n",
       "    }\n",
       "</style>\n",
       "<table border=\"1\" class=\"dataframe\">\n",
       "  <thead>\n",
       "    <tr style=\"text-align: right;\">\n",
       "      <th></th>\n",
       "      <th>Age</th>\n",
       "      <th>Fnlwgt</th>\n",
       "      <th>Education_num</th>\n",
       "      <th>Capital_gain</th>\n",
       "      <th>Capital_loss</th>\n",
       "      <th>Hours_per_week</th>\n",
       "    </tr>\n",
       "  </thead>\n",
       "  <tbody>\n",
       "    <tr>\n",
       "      <th>0</th>\n",
       "      <td>50</td>\n",
       "      <td>83311</td>\n",
       "      <td>13</td>\n",
       "      <td>0</td>\n",
       "      <td>0</td>\n",
       "      <td>13</td>\n",
       "    </tr>\n",
       "    <tr>\n",
       "      <th>1</th>\n",
       "      <td>38</td>\n",
       "      <td>215646</td>\n",
       "      <td>9</td>\n",
       "      <td>0</td>\n",
       "      <td>0</td>\n",
       "      <td>40</td>\n",
       "    </tr>\n",
       "    <tr>\n",
       "      <th>2</th>\n",
       "      <td>53</td>\n",
       "      <td>234721</td>\n",
       "      <td>7</td>\n",
       "      <td>0</td>\n",
       "      <td>0</td>\n",
       "      <td>40</td>\n",
       "    </tr>\n",
       "    <tr>\n",
       "      <th>3</th>\n",
       "      <td>28</td>\n",
       "      <td>338409</td>\n",
       "      <td>13</td>\n",
       "      <td>0</td>\n",
       "      <td>0</td>\n",
       "      <td>40</td>\n",
       "    </tr>\n",
       "    <tr>\n",
       "      <th>4</th>\n",
       "      <td>37</td>\n",
       "      <td>284582</td>\n",
       "      <td>14</td>\n",
       "      <td>0</td>\n",
       "      <td>0</td>\n",
       "      <td>40</td>\n",
       "    </tr>\n",
       "    <tr>\n",
       "      <th>...</th>\n",
       "      <td>...</td>\n",
       "      <td>...</td>\n",
       "      <td>...</td>\n",
       "      <td>...</td>\n",
       "      <td>...</td>\n",
       "      <td>...</td>\n",
       "    </tr>\n",
       "    <tr>\n",
       "      <th>32555</th>\n",
       "      <td>27</td>\n",
       "      <td>257302</td>\n",
       "      <td>12</td>\n",
       "      <td>0</td>\n",
       "      <td>0</td>\n",
       "      <td>38</td>\n",
       "    </tr>\n",
       "    <tr>\n",
       "      <th>32556</th>\n",
       "      <td>40</td>\n",
       "      <td>154374</td>\n",
       "      <td>9</td>\n",
       "      <td>0</td>\n",
       "      <td>0</td>\n",
       "      <td>40</td>\n",
       "    </tr>\n",
       "    <tr>\n",
       "      <th>32557</th>\n",
       "      <td>58</td>\n",
       "      <td>151910</td>\n",
       "      <td>9</td>\n",
       "      <td>0</td>\n",
       "      <td>0</td>\n",
       "      <td>40</td>\n",
       "    </tr>\n",
       "    <tr>\n",
       "      <th>32558</th>\n",
       "      <td>22</td>\n",
       "      <td>201490</td>\n",
       "      <td>9</td>\n",
       "      <td>0</td>\n",
       "      <td>0</td>\n",
       "      <td>20</td>\n",
       "    </tr>\n",
       "    <tr>\n",
       "      <th>32559</th>\n",
       "      <td>52</td>\n",
       "      <td>287927</td>\n",
       "      <td>9</td>\n",
       "      <td>15024</td>\n",
       "      <td>0</td>\n",
       "      <td>40</td>\n",
       "    </tr>\n",
       "  </tbody>\n",
       "</table>\n",
       "<p>32536 rows × 6 columns</p>\n",
       "</div>"
      ],
      "text/plain": [
       "       Age  Fnlwgt  Education_num  Capital_gain  Capital_loss  Hours_per_week\n",
       "0       50   83311             13             0             0              13\n",
       "1       38  215646              9             0             0              40\n",
       "2       53  234721              7             0             0              40\n",
       "3       28  338409             13             0             0              40\n",
       "4       37  284582             14             0             0              40\n",
       "...    ...     ...            ...           ...           ...             ...\n",
       "32555   27  257302             12             0             0              38\n",
       "32556   40  154374              9             0             0              40\n",
       "32557   58  151910              9             0             0              40\n",
       "32558   22  201490              9             0             0              20\n",
       "32559   52  287927              9         15024             0              40\n",
       "\n",
       "[32536 rows x 6 columns]"
      ]
     },
     "execution_count": 35,
     "metadata": {},
     "output_type": "execute_result"
    }
   ],
   "source": [
    "num_col"
   ]
  },
  {
   "cell_type": "code",
   "execution_count": 36,
   "id": "c1fcdfe1",
   "metadata": {},
   "outputs": [
    {
     "data": {
      "text/html": [
       "<div>\n",
       "<style scoped>\n",
       "    .dataframe tbody tr th:only-of-type {\n",
       "        vertical-align: middle;\n",
       "    }\n",
       "\n",
       "    .dataframe tbody tr th {\n",
       "        vertical-align: top;\n",
       "    }\n",
       "\n",
       "    .dataframe thead th {\n",
       "        text-align: right;\n",
       "    }\n",
       "</style>\n",
       "<table border=\"1\" class=\"dataframe\">\n",
       "  <thead>\n",
       "    <tr style=\"text-align: right;\">\n",
       "      <th></th>\n",
       "      <th>Workclass</th>\n",
       "      <th>Education</th>\n",
       "      <th>Marital_status</th>\n",
       "      <th>Occupation</th>\n",
       "      <th>Relationship</th>\n",
       "      <th>Race</th>\n",
       "      <th>Sex</th>\n",
       "      <th>Native_country</th>\n",
       "      <th>Income</th>\n",
       "    </tr>\n",
       "  </thead>\n",
       "  <tbody>\n",
       "    <tr>\n",
       "      <th>0</th>\n",
       "      <td>Self-emp-not-inc</td>\n",
       "      <td>Bachelors</td>\n",
       "      <td>Married-civ-spouse</td>\n",
       "      <td>Exec-managerial</td>\n",
       "      <td>Husband</td>\n",
       "      <td>White</td>\n",
       "      <td>Male</td>\n",
       "      <td>United-States</td>\n",
       "      <td>&lt;=50K</td>\n",
       "    </tr>\n",
       "    <tr>\n",
       "      <th>1</th>\n",
       "      <td>Private</td>\n",
       "      <td>HS-grad</td>\n",
       "      <td>Divorced</td>\n",
       "      <td>Handlers-cleaners</td>\n",
       "      <td>Not-in-family</td>\n",
       "      <td>White</td>\n",
       "      <td>Male</td>\n",
       "      <td>United-States</td>\n",
       "      <td>&lt;=50K</td>\n",
       "    </tr>\n",
       "    <tr>\n",
       "      <th>2</th>\n",
       "      <td>Private</td>\n",
       "      <td>11th</td>\n",
       "      <td>Married-civ-spouse</td>\n",
       "      <td>Handlers-cleaners</td>\n",
       "      <td>Husband</td>\n",
       "      <td>Black</td>\n",
       "      <td>Male</td>\n",
       "      <td>United-States</td>\n",
       "      <td>&lt;=50K</td>\n",
       "    </tr>\n",
       "    <tr>\n",
       "      <th>3</th>\n",
       "      <td>Private</td>\n",
       "      <td>Bachelors</td>\n",
       "      <td>Married-civ-spouse</td>\n",
       "      <td>Prof-specialty</td>\n",
       "      <td>Wife</td>\n",
       "      <td>Black</td>\n",
       "      <td>Female</td>\n",
       "      <td>Cuba</td>\n",
       "      <td>&lt;=50K</td>\n",
       "    </tr>\n",
       "    <tr>\n",
       "      <th>4</th>\n",
       "      <td>Private</td>\n",
       "      <td>Masters</td>\n",
       "      <td>Married-civ-spouse</td>\n",
       "      <td>Exec-managerial</td>\n",
       "      <td>Wife</td>\n",
       "      <td>White</td>\n",
       "      <td>Female</td>\n",
       "      <td>United-States</td>\n",
       "      <td>&lt;=50K</td>\n",
       "    </tr>\n",
       "    <tr>\n",
       "      <th>...</th>\n",
       "      <td>...</td>\n",
       "      <td>...</td>\n",
       "      <td>...</td>\n",
       "      <td>...</td>\n",
       "      <td>...</td>\n",
       "      <td>...</td>\n",
       "      <td>...</td>\n",
       "      <td>...</td>\n",
       "      <td>...</td>\n",
       "    </tr>\n",
       "    <tr>\n",
       "      <th>32555</th>\n",
       "      <td>Private</td>\n",
       "      <td>Assoc-acdm</td>\n",
       "      <td>Married-civ-spouse</td>\n",
       "      <td>Tech-support</td>\n",
       "      <td>Wife</td>\n",
       "      <td>White</td>\n",
       "      <td>Female</td>\n",
       "      <td>United-States</td>\n",
       "      <td>&lt;=50K</td>\n",
       "    </tr>\n",
       "    <tr>\n",
       "      <th>32556</th>\n",
       "      <td>Private</td>\n",
       "      <td>HS-grad</td>\n",
       "      <td>Married-civ-spouse</td>\n",
       "      <td>Machine-op-inspct</td>\n",
       "      <td>Husband</td>\n",
       "      <td>White</td>\n",
       "      <td>Male</td>\n",
       "      <td>United-States</td>\n",
       "      <td>&gt;50K</td>\n",
       "    </tr>\n",
       "    <tr>\n",
       "      <th>32557</th>\n",
       "      <td>Private</td>\n",
       "      <td>HS-grad</td>\n",
       "      <td>Widowed</td>\n",
       "      <td>Adm-clerical</td>\n",
       "      <td>Unmarried</td>\n",
       "      <td>White</td>\n",
       "      <td>Female</td>\n",
       "      <td>United-States</td>\n",
       "      <td>&lt;=50K</td>\n",
       "    </tr>\n",
       "    <tr>\n",
       "      <th>32558</th>\n",
       "      <td>Private</td>\n",
       "      <td>HS-grad</td>\n",
       "      <td>Never-married</td>\n",
       "      <td>Adm-clerical</td>\n",
       "      <td>Own-child</td>\n",
       "      <td>White</td>\n",
       "      <td>Male</td>\n",
       "      <td>United-States</td>\n",
       "      <td>&lt;=50K</td>\n",
       "    </tr>\n",
       "    <tr>\n",
       "      <th>32559</th>\n",
       "      <td>Self-emp-inc</td>\n",
       "      <td>HS-grad</td>\n",
       "      <td>Married-civ-spouse</td>\n",
       "      <td>Exec-managerial</td>\n",
       "      <td>Wife</td>\n",
       "      <td>White</td>\n",
       "      <td>Female</td>\n",
       "      <td>United-States</td>\n",
       "      <td>&gt;50K</td>\n",
       "    </tr>\n",
       "  </tbody>\n",
       "</table>\n",
       "<p>32536 rows × 9 columns</p>\n",
       "</div>"
      ],
      "text/plain": [
       "               Workclass    Education       Marital_status  \\\n",
       "0       Self-emp-not-inc    Bachelors   Married-civ-spouse   \n",
       "1                Private      HS-grad             Divorced   \n",
       "2                Private         11th   Married-civ-spouse   \n",
       "3                Private    Bachelors   Married-civ-spouse   \n",
       "4                Private      Masters   Married-civ-spouse   \n",
       "...                  ...          ...                  ...   \n",
       "32555            Private   Assoc-acdm   Married-civ-spouse   \n",
       "32556            Private      HS-grad   Married-civ-spouse   \n",
       "32557            Private      HS-grad              Widowed   \n",
       "32558            Private      HS-grad        Never-married   \n",
       "32559       Self-emp-inc      HS-grad   Married-civ-spouse   \n",
       "\n",
       "               Occupation    Relationship    Race      Sex  Native_country  \\\n",
       "0         Exec-managerial         Husband   White     Male   United-States   \n",
       "1       Handlers-cleaners   Not-in-family   White     Male   United-States   \n",
       "2       Handlers-cleaners         Husband   Black     Male   United-States   \n",
       "3          Prof-specialty            Wife   Black   Female            Cuba   \n",
       "4         Exec-managerial            Wife   White   Female   United-States   \n",
       "...                   ...             ...     ...      ...             ...   \n",
       "32555        Tech-support            Wife   White   Female   United-States   \n",
       "32556   Machine-op-inspct         Husband   White     Male   United-States   \n",
       "32557        Adm-clerical       Unmarried   White   Female   United-States   \n",
       "32558        Adm-clerical       Own-child   White     Male   United-States   \n",
       "32559     Exec-managerial            Wife   White   Female   United-States   \n",
       "\n",
       "       Income  \n",
       "0       <=50K  \n",
       "1       <=50K  \n",
       "2       <=50K  \n",
       "3       <=50K  \n",
       "4       <=50K  \n",
       "...       ...  \n",
       "32555   <=50K  \n",
       "32556    >50K  \n",
       "32557   <=50K  \n",
       "32558   <=50K  \n",
       "32559    >50K  \n",
       "\n",
       "[32536 rows x 9 columns]"
      ]
     },
     "execution_count": 36,
     "metadata": {},
     "output_type": "execute_result"
    }
   ],
   "source": [
    "cat_col"
   ]
  },
  {
   "cell_type": "markdown",
   "id": "0c8faeab",
   "metadata": {},
   "source": [
    "here one thing is pending while we do the countplotb we got a questionmark symbol instead of data and we can do replace that question mark with mean median or mode ,it indicates a not known value if we replace the name any thing unkown category now use strip function for replace that question mark symbol to unknown categorey\n",
    "\n",
    "Workclass,Occupation,Native_country these are the columns have question mark"
   ]
  },
  {
   "cell_type": "code",
   "execution_count": 37,
   "id": "ba1a799e",
   "metadata": {},
   "outputs": [],
   "source": [
    "columns = ['Workclass','Occupation','Native_country']\n",
    "for col in columns:\n",
    "    cat_col[col] = cat_col[col].str.strip().replace({'?':'None'})\n",
    "\n",
    "\n"
   ]
  },
  {
   "cell_type": "markdown",
   "id": "ae0bca5b",
   "metadata": {},
   "source": [
    "Now check it is it changed are not"
   ]
  },
  {
   "cell_type": "code",
   "execution_count": 38,
   "id": "15f7cc1f",
   "metadata": {},
   "outputs": [
    {
     "data": {
      "text/plain": [
       "Private             22673\n",
       "Self-emp-not-inc     2540\n",
       "Local-gov            2093\n",
       "None                 1836\n",
       "State-gov            1297\n",
       "Self-emp-inc         1116\n",
       "Federal-gov           960\n",
       "Without-pay            14\n",
       "Never-worked            7\n",
       "Name: Workclass, dtype: int64"
      ]
     },
     "execution_count": 38,
     "metadata": {},
     "output_type": "execute_result"
    }
   ],
   "source": [
    "cat_col['Workclass'].value_counts()\n",
    "\n"
   ]
  },
  {
   "cell_type": "code",
   "execution_count": 39,
   "id": "e543aee9",
   "metadata": {},
   "outputs": [
    {
     "data": {
      "text/plain": [
       "Prof-specialty       4136\n",
       "Craft-repair         4094\n",
       "Exec-managerial      4065\n",
       "Adm-clerical         3767\n",
       "Sales                3650\n",
       "Other-service        3291\n",
       "Machine-op-inspct    2000\n",
       "None                 1843\n",
       "Transport-moving     1597\n",
       "Handlers-cleaners    1369\n",
       "Farming-fishing       992\n",
       "Tech-support          927\n",
       "Protective-serv       649\n",
       "Priv-house-serv       147\n",
       "Armed-Forces            9\n",
       "Name: Occupation, dtype: int64"
      ]
     },
     "execution_count": 39,
     "metadata": {},
     "output_type": "execute_result"
    }
   ],
   "source": [
    "\n",
    "cat_col['Occupation'].value_counts()\n"
   ]
  },
  {
   "cell_type": "code",
   "execution_count": 40,
   "id": "c71f47ff",
   "metadata": {},
   "outputs": [
    {
     "data": {
      "text/plain": [
       "United-States                 29152\n",
       "Mexico                          639\n",
       "None                            582\n",
       "Philippines                     198\n",
       "Germany                         137\n",
       "Canada                          121\n",
       "Puerto-Rico                     114\n",
       "El-Salvador                     106\n",
       "India                           100\n",
       "Cuba                             95\n",
       "England                          90\n",
       "Jamaica                          81\n",
       "South                            80\n",
       "China                            75\n",
       "Italy                            73\n",
       "Dominican-Republic               70\n",
       "Vietnam                          67\n",
       "Guatemala                        62\n",
       "Japan                            62\n",
       "Poland                           60\n",
       "Columbia                         59\n",
       "Taiwan                           51\n",
       "Haiti                            44\n",
       "Iran                             43\n",
       "Portugal                         37\n",
       "Nicaragua                        34\n",
       "Peru                             31\n",
       "France                           29\n",
       "Greece                           29\n",
       "Ecuador                          28\n",
       "Ireland                          24\n",
       "Hong                             20\n",
       "Trinadad&Tobago                  19\n",
       "Cambodia                         19\n",
       "Thailand                         18\n",
       "Laos                             18\n",
       "Yugoslavia                       16\n",
       "Outlying-US(Guam-USVI-etc)       14\n",
       "Hungary                          13\n",
       "Honduras                         13\n",
       "Scotland                         12\n",
       "Holand-Netherlands                1\n",
       "Name: Native_country, dtype: int64"
      ]
     },
     "execution_count": 40,
     "metadata": {},
     "output_type": "execute_result"
    }
   ],
   "source": [
    "cat_col['Native_country'].value_counts()\n",
    "\n"
   ]
  },
  {
   "cell_type": "markdown",
   "id": "96820a34",
   "metadata": {},
   "source": [
    "now in three columns are replaced with none\n",
    "\n",
    "Now change categorical columns into numerical so everyown knows machinelearning cant understand categorical\n",
    "\n",
    "LabelEncoder() here to convert categorical to numerical data,"
   ]
  },
  {
   "cell_type": "code",
   "execution_count": 41,
   "id": "f7860dda",
   "metadata": {},
   "outputs": [],
   "source": [
    "from sklearn.preprocessing import LabelEncoder\n",
    "labelencoder = LabelEncoder()\n",
    "cat_col = cat_col.apply(labelencoder.fit_transform)\n",
    "\n",
    "\n"
   ]
  },
  {
   "cell_type": "markdown",
   "id": "8171048f",
   "metadata": {},
   "source": [
    "Now all are coverted into a numerical data so we do check a dataframe"
   ]
  },
  {
   "cell_type": "code",
   "execution_count": 42,
   "id": "b6f95299",
   "metadata": {},
   "outputs": [
    {
     "data": {
      "text/html": [
       "<div>\n",
       "<style scoped>\n",
       "    .dataframe tbody tr th:only-of-type {\n",
       "        vertical-align: middle;\n",
       "    }\n",
       "\n",
       "    .dataframe tbody tr th {\n",
       "        vertical-align: top;\n",
       "    }\n",
       "\n",
       "    .dataframe thead th {\n",
       "        text-align: right;\n",
       "    }\n",
       "</style>\n",
       "<table border=\"1\" class=\"dataframe\">\n",
       "  <thead>\n",
       "    <tr style=\"text-align: right;\">\n",
       "      <th></th>\n",
       "      <th>Workclass</th>\n",
       "      <th>Education</th>\n",
       "      <th>Marital_status</th>\n",
       "      <th>Occupation</th>\n",
       "      <th>Relationship</th>\n",
       "      <th>Race</th>\n",
       "      <th>Sex</th>\n",
       "      <th>Native_country</th>\n",
       "      <th>Income</th>\n",
       "    </tr>\n",
       "  </thead>\n",
       "  <tbody>\n",
       "    <tr>\n",
       "      <th>0</th>\n",
       "      <td>6</td>\n",
       "      <td>9</td>\n",
       "      <td>2</td>\n",
       "      <td>3</td>\n",
       "      <td>0</td>\n",
       "      <td>4</td>\n",
       "      <td>1</td>\n",
       "      <td>39</td>\n",
       "      <td>0</td>\n",
       "    </tr>\n",
       "    <tr>\n",
       "      <th>1</th>\n",
       "      <td>4</td>\n",
       "      <td>11</td>\n",
       "      <td>0</td>\n",
       "      <td>5</td>\n",
       "      <td>1</td>\n",
       "      <td>4</td>\n",
       "      <td>1</td>\n",
       "      <td>39</td>\n",
       "      <td>0</td>\n",
       "    </tr>\n",
       "    <tr>\n",
       "      <th>2</th>\n",
       "      <td>4</td>\n",
       "      <td>1</td>\n",
       "      <td>2</td>\n",
       "      <td>5</td>\n",
       "      <td>0</td>\n",
       "      <td>2</td>\n",
       "      <td>1</td>\n",
       "      <td>39</td>\n",
       "      <td>0</td>\n",
       "    </tr>\n",
       "    <tr>\n",
       "      <th>3</th>\n",
       "      <td>4</td>\n",
       "      <td>9</td>\n",
       "      <td>2</td>\n",
       "      <td>10</td>\n",
       "      <td>5</td>\n",
       "      <td>2</td>\n",
       "      <td>0</td>\n",
       "      <td>4</td>\n",
       "      <td>0</td>\n",
       "    </tr>\n",
       "    <tr>\n",
       "      <th>4</th>\n",
       "      <td>4</td>\n",
       "      <td>12</td>\n",
       "      <td>2</td>\n",
       "      <td>3</td>\n",
       "      <td>5</td>\n",
       "      <td>4</td>\n",
       "      <td>0</td>\n",
       "      <td>39</td>\n",
       "      <td>0</td>\n",
       "    </tr>\n",
       "  </tbody>\n",
       "</table>\n",
       "</div>"
      ],
      "text/plain": [
       "   Workclass  Education  Marital_status  Occupation  Relationship  Race  Sex  \\\n",
       "0          6          9               2           3             0     4    1   \n",
       "1          4         11               0           5             1     4    1   \n",
       "2          4          1               2           5             0     2    1   \n",
       "3          4          9               2          10             5     2    0   \n",
       "4          4         12               2           3             5     4    0   \n",
       "\n",
       "   Native_country  Income  \n",
       "0              39       0  \n",
       "1              39       0  \n",
       "2              39       0  \n",
       "3               4       0  \n",
       "4              39       0  "
      ]
     },
     "execution_count": 42,
     "metadata": {},
     "output_type": "execute_result"
    }
   ],
   "source": [
    "cat_col.head()"
   ]
  },
  {
   "cell_type": "markdown",
   "id": "0b1866fb",
   "metadata": {},
   "source": [
    "Now all are coverted into a numerical data so we do check a dataframe"
   ]
  },
  {
   "cell_type": "code",
   "execution_count": 43,
   "id": "600606d0",
   "metadata": {},
   "outputs": [
    {
     "data": {
      "image/png": "[encoded data removed]",
      "text/plain": [
       "<Figure size 1440x1080 with 6 Axes>"
      ]
     },
     "metadata": {
      "needs_background": "light"
     },
     "output_type": "display_data"
    }
   ],
   "source": [
    "#how data distributed every column by visualiation\n",
    "plt.figure(figsize =(20,15))\n",
    "plotnumber =1\n",
    "\n",
    "for column in num_col:\n",
    "    if plotnumber<=6:\n",
    "        ax = plt.subplot(2,3,plotnumber)\n",
    "        sns.distplot(num_col[column])\n",
    "        plt.xlabel(column,fontsize = 20)\n",
    "\n",
    "     \n",
    "    plotnumber+=1\n",
    "plt.tight_layout()\n"
   ]
  },
  {
   "cell_type": "markdown",
   "id": "fa0a79d2",
   "metadata": {},
   "source": [
    "there so many outliers are showing in almost every columns our data has not normally distributed some are skewed rigt side now use bosx plot to check otliers and do removel outliers use z score if use z score after that if outliers not removed all then use quantile method"
   ]
  },
  {
   "cell_type": "code",
   "execution_count": 44,
   "id": "4dc29ecd",
   "metadata": {},
   "outputs": [
    {
     "data": {
      "image/png": "[encoded data removed]",
      "text/plain": [
       "<Figure size 720x1080 with 6 Axes>"
      ]
     },
     "metadata": {
      "needs_background": "light"
     },
     "output_type": "display_data"
    }
   ],
   "source": [
    "#use boxplot\n",
    "fig,ax = plt.subplots(ncols=3,nrows=2,figsize=(10,15))\n",
    "index=0\n",
    "ax= ax.flatten()\n",
    "\n",
    "for col,value in num_col.items():\n",
    "    if col !='type':\n",
    "        sns.boxplot(y=col,data=num_col,ax=ax[index])\n",
    "        index+=1\n",
    "\n"
   ]
  },
  {
   "cell_type": "code",
   "execution_count": 45,
   "id": "91e7c015",
   "metadata": {},
   "outputs": [
    {
     "data": {
      "text/plain": [
       "array([[ 0.83696128, -1.0087032 ,  1.13481701, -0.14596869, -0.21674666,\n",
       "        -2.22244997],\n",
       "       [-0.04293421,  0.24500772, -0.42064566, -0.14596869, -0.21674666,\n",
       "        -0.03566429],\n",
       "       [ 1.05693515,  0.42571982, -1.198377  , -0.14596869, -0.21674666,\n",
       "        -0.03566429],\n",
       "       ...,\n",
       "       [ 1.42355827, -0.35881227, -0.42064566, -0.14596869, -0.21674666,\n",
       "        -0.03566429],\n",
       "       [-1.21612819,  0.11089708, -0.42064566, -0.14596869, -0.21674666,\n",
       "        -1.65550554],\n",
       "       [ 0.98361053,  0.92978106, -0.42064566,  1.88761167, -0.21674666,\n",
       "        -0.03566429]])"
      ]
     },
     "execution_count": 45,
     "metadata": {},
     "output_type": "execute_result"
    }
   ],
   "source": [
    "from scipy.stats import zscore\n",
    "z=zscore(num_col)\n",
    "z\n",
    "\n",
    "\n"
   ]
  },
  {
   "cell_type": "code",
   "execution_count": 46,
   "id": "20cc89f2",
   "metadata": {},
   "outputs": [
    {
     "name": "stdout",
     "output_type": "stream",
     "text": [
      "(array([    9,    22,    27, ..., 32493, 32500, 32506], dtype=int64), array([5, 4, 5, ..., 3, 0, 5], dtype=int64))\n"
     ]
    }
   ],
   "source": [
    "threshold = 3\n",
    "print(np.where(z>3))\n",
    "\n"
   ]
  },
  {
   "cell_type": "code",
   "execution_count": 47,
   "id": "87ff1ee1",
   "metadata": {},
   "outputs": [],
   "source": [
    "df_new = num_col [(z<3).all(axis =1)]\n",
    "\n"
   ]
  },
  {
   "cell_type": "code",
   "execution_count": 48,
   "id": "34772414",
   "metadata": {},
   "outputs": [
    {
     "data": {
      "text/plain": [
       "(32536, 15)"
      ]
     },
     "execution_count": 48,
     "metadata": {},
     "output_type": "execute_result"
    }
   ],
   "source": [
    "df1.shape"
   ]
  },
  {
   "cell_type": "code",
   "execution_count": 49,
   "id": "b715a2fd",
   "metadata": {},
   "outputs": [
    {
     "data": {
      "text/plain": [
       "(30084, 6)"
      ]
     },
     "execution_count": 49,
     "metadata": {},
     "output_type": "execute_result"
    }
   ],
   "source": [
    "df_new.shape"
   ]
  },
  {
   "cell_type": "code",
   "execution_count": 50,
   "id": "2c895039",
   "metadata": {},
   "outputs": [
    {
     "data": {
      "text/plain": [
       "7.536267519055816"
      ]
     },
     "execution_count": 50,
     "metadata": {},
     "output_type": "execute_result"
    }
   ],
   "source": [
    "# data loss\n",
    "(32536-30084)/32536*100"
   ]
  },
  {
   "cell_type": "markdown",
   "id": "2d71be04",
   "metadata": {},
   "source": [
    "here we lossing 8% of data usiing zscore ok lets move to check the skewness and if any skewness more than +-0.5,we will remove it"
   ]
  },
  {
   "cell_type": "code",
   "execution_count": 51,
   "id": "78945f03",
   "metadata": {},
   "outputs": [
    {
     "data": {
      "text/plain": [
       "Age                0.493555\n",
       "Fnlwgt             0.634961\n",
       "Education_num     -0.321417\n",
       "Capital_gain       4.959541\n",
       "Capital_loss      29.614763\n",
       "Hours_per_week    -0.405846\n",
       "dtype: float64"
      ]
     },
     "execution_count": 51,
     "metadata": {},
     "output_type": "execute_result"
    }
   ],
   "source": [
    "df_new.skew()"
   ]
  },
  {
   "cell_type": "markdown",
   "id": "3f10f6d6",
   "metadata": {},
   "source": [
    "using z score skewnss are not removed perfectly then use quantile method"
   ]
  },
  {
   "cell_type": "code",
   "execution_count": 52,
   "id": "5dda5030",
   "metadata": {},
   "outputs": [],
   "source": [
    "quant = num_col['Age'].quantile(0.99)\n",
    "num_colm =num_col['Age'][num_col['Age']<quant]\n",
    "\n",
    "quant = num_col['Fnlwgt'].quantile(0.98)\n",
    "num_colm =num_col['Fnlwgt'][num_col['Fnlwgt']<quant]\n",
    "\n",
    "quant = num_col['Education_num'].quantile(0.01)\n",
    "num_colm =num_col['Education_num'][num_col['Education_num']<quant]\n",
    "\n",
    "\n",
    "quant = num_col['Hours_per_week'].quantile(0.01)\n",
    "num_colm =num_col['Hours_per_week'][num_col['Hours_per_week']<quant]\n",
    "\n",
    "quant = num_col['Hours_per_week'].quantile(0.98)\n",
    "num_colm =num_col['Hours_per_week'][num_col['Hours_per_week']<quant]\n",
    "\n"
   ]
  },
  {
   "cell_type": "markdown",
   "id": "36aca9ca",
   "metadata": {},
   "source": [
    "\n",
    "\n",
    "Applying quantile method to remove the data. As Capital_loss and Capital_gain is having 0 has most of the values ,When we try to remove this,we are losing max number of data.so skipping that two columns."
   ]
  },
  {
   "cell_type": "code",
   "execution_count": 53,
   "id": "5eeb9fc3",
   "metadata": {},
   "outputs": [],
   "source": [
    "quant1 =num_col['Age'].quantile(0.99)\n",
    "quant2 =num_col['Fnlwgt'].quantile(0.98)\n",
    "quant3 =num_col['Education_num'].quantile(0.01)\n",
    "quant4 =num_col['Hours_per_week'].quantile(0.98)\n",
    "#quant5 =num_col['Capital_loss'].quantile(0.97)\n",
    "#quant6 =num_col['Capital_gain'].quantile(0.97)\n",
    "quant7 =num_col['Hours_per_week'].quantile(0.01)\n"
   ]
  },
  {
   "cell_type": "code",
   "execution_count": 54,
   "id": "90da2d75",
   "metadata": {},
   "outputs": [
    {
     "name": "stdout",
     "output_type": "stream",
     "text": [
      "(32536, 6)\n",
      "(32200, 6)\n",
      "(31550, 6)\n",
      "(31049, 6)\n",
      "(30284, 6)\n",
      "(29913, 6)\n"
     ]
    }
   ],
   "source": [
    "\n",
    "\n",
    "\n",
    "print(num_col.shape)\n",
    "num_col = num_col[num_col['Age'] <quant1]\n",
    "print(num_col.shape)\n",
    "num_col = num_col[num_col['Fnlwgt'] <quant2]\n",
    "print(num_col.shape)\n",
    "num_col = num_col[num_col['Education_num'] >quant3]\n",
    "print(num_col.shape)\n",
    "num_col = num_col[num_col['Hours_per_week'] <quant4]\n",
    "print(num_col.shape)\n",
    "num_col = num_col[num_col['Hours_per_week'] >quant7]\n",
    "print(num_col.shape)"
   ]
  },
  {
   "cell_type": "code",
   "execution_count": 55,
   "id": "3981cc6d",
   "metadata": {},
   "outputs": [
    {
     "data": {
      "text/plain": [
       "Age                0.403989\n",
       "Fnlwgt             0.506461\n",
       "Education_num      0.006394\n",
       "Capital_gain      12.203903\n",
       "Capital_loss       4.535806\n",
       "Hours_per_week    -0.455392\n",
       "dtype: float64"
      ]
     },
     "execution_count": 55,
     "metadata": {},
     "output_type": "execute_result"
    }
   ],
   "source": [
    "num_col.skew()"
   ]
  },
  {
   "cell_type": "markdown",
   "id": "64635622",
   "metadata": {},
   "source": [
    "After zscore and quantile tecnique hase skewness little different so their quantrile removal is best and it losses 8% data. We can see that data is having skewness in capital loss and capital gain and we didnt remove those column as it didnt make any great difference in accuracy of model after removing as well.So keeping those features and going to build a model."
   ]
  },
  {
   "cell_type": "code",
   "execution_count": 56,
   "id": "d16c7e98",
   "metadata": {},
   "outputs": [
    {
     "data": {
      "text/html": [
       "<div>\n",
       "<style scoped>\n",
       "    .dataframe tbody tr th:only-of-type {\n",
       "        vertical-align: middle;\n",
       "    }\n",
       "\n",
       "    .dataframe tbody tr th {\n",
       "        vertical-align: top;\n",
       "    }\n",
       "\n",
       "    .dataframe thead th {\n",
       "        text-align: right;\n",
       "    }\n",
       "</style>\n",
       "<table border=\"1\" class=\"dataframe\">\n",
       "  <thead>\n",
       "    <tr style=\"text-align: right;\">\n",
       "      <th></th>\n",
       "      <th>Age</th>\n",
       "      <th>Fnlwgt</th>\n",
       "      <th>Education_num</th>\n",
       "      <th>Capital_gain</th>\n",
       "      <th>Capital_loss</th>\n",
       "      <th>Hours_per_week</th>\n",
       "      <th>Workclass</th>\n",
       "      <th>Education</th>\n",
       "      <th>Marital_status</th>\n",
       "      <th>Occupation</th>\n",
       "      <th>Relationship</th>\n",
       "      <th>Race</th>\n",
       "      <th>Sex</th>\n",
       "      <th>Native_country</th>\n",
       "      <th>Income</th>\n",
       "    </tr>\n",
       "  </thead>\n",
       "  <tbody>\n",
       "    <tr>\n",
       "      <th>0</th>\n",
       "      <td>50.0</td>\n",
       "      <td>83311.0</td>\n",
       "      <td>13.0</td>\n",
       "      <td>0.0</td>\n",
       "      <td>0.0</td>\n",
       "      <td>13.0</td>\n",
       "      <td>6</td>\n",
       "      <td>9</td>\n",
       "      <td>2</td>\n",
       "      <td>3</td>\n",
       "      <td>0</td>\n",
       "      <td>4</td>\n",
       "      <td>1</td>\n",
       "      <td>39</td>\n",
       "      <td>0</td>\n",
       "    </tr>\n",
       "    <tr>\n",
       "      <th>1</th>\n",
       "      <td>38.0</td>\n",
       "      <td>215646.0</td>\n",
       "      <td>9.0</td>\n",
       "      <td>0.0</td>\n",
       "      <td>0.0</td>\n",
       "      <td>40.0</td>\n",
       "      <td>4</td>\n",
       "      <td>11</td>\n",
       "      <td>0</td>\n",
       "      <td>5</td>\n",
       "      <td>1</td>\n",
       "      <td>4</td>\n",
       "      <td>1</td>\n",
       "      <td>39</td>\n",
       "      <td>0</td>\n",
       "    </tr>\n",
       "    <tr>\n",
       "      <th>2</th>\n",
       "      <td>53.0</td>\n",
       "      <td>234721.0</td>\n",
       "      <td>7.0</td>\n",
       "      <td>0.0</td>\n",
       "      <td>0.0</td>\n",
       "      <td>40.0</td>\n",
       "      <td>4</td>\n",
       "      <td>1</td>\n",
       "      <td>2</td>\n",
       "      <td>5</td>\n",
       "      <td>0</td>\n",
       "      <td>2</td>\n",
       "      <td>1</td>\n",
       "      <td>39</td>\n",
       "      <td>0</td>\n",
       "    </tr>\n",
       "    <tr>\n",
       "      <th>3</th>\n",
       "      <td>28.0</td>\n",
       "      <td>338409.0</td>\n",
       "      <td>13.0</td>\n",
       "      <td>0.0</td>\n",
       "      <td>0.0</td>\n",
       "      <td>40.0</td>\n",
       "      <td>4</td>\n",
       "      <td>9</td>\n",
       "      <td>2</td>\n",
       "      <td>10</td>\n",
       "      <td>5</td>\n",
       "      <td>2</td>\n",
       "      <td>0</td>\n",
       "      <td>4</td>\n",
       "      <td>0</td>\n",
       "    </tr>\n",
       "    <tr>\n",
       "      <th>4</th>\n",
       "      <td>37.0</td>\n",
       "      <td>284582.0</td>\n",
       "      <td>14.0</td>\n",
       "      <td>0.0</td>\n",
       "      <td>0.0</td>\n",
       "      <td>40.0</td>\n",
       "      <td>4</td>\n",
       "      <td>12</td>\n",
       "      <td>2</td>\n",
       "      <td>3</td>\n",
       "      <td>5</td>\n",
       "      <td>4</td>\n",
       "      <td>0</td>\n",
       "      <td>39</td>\n",
       "      <td>0</td>\n",
       "    </tr>\n",
       "    <tr>\n",
       "      <th>...</th>\n",
       "      <td>...</td>\n",
       "      <td>...</td>\n",
       "      <td>...</td>\n",
       "      <td>...</td>\n",
       "      <td>...</td>\n",
       "      <td>...</td>\n",
       "      <td>...</td>\n",
       "      <td>...</td>\n",
       "      <td>...</td>\n",
       "      <td>...</td>\n",
       "      <td>...</td>\n",
       "      <td>...</td>\n",
       "      <td>...</td>\n",
       "      <td>...</td>\n",
       "      <td>...</td>\n",
       "    </tr>\n",
       "    <tr>\n",
       "      <th>32555</th>\n",
       "      <td>27.0</td>\n",
       "      <td>257302.0</td>\n",
       "      <td>12.0</td>\n",
       "      <td>0.0</td>\n",
       "      <td>0.0</td>\n",
       "      <td>38.0</td>\n",
       "      <td>4</td>\n",
       "      <td>7</td>\n",
       "      <td>2</td>\n",
       "      <td>13</td>\n",
       "      <td>5</td>\n",
       "      <td>4</td>\n",
       "      <td>0</td>\n",
       "      <td>39</td>\n",
       "      <td>0</td>\n",
       "    </tr>\n",
       "    <tr>\n",
       "      <th>32556</th>\n",
       "      <td>40.0</td>\n",
       "      <td>154374.0</td>\n",
       "      <td>9.0</td>\n",
       "      <td>0.0</td>\n",
       "      <td>0.0</td>\n",
       "      <td>40.0</td>\n",
       "      <td>4</td>\n",
       "      <td>11</td>\n",
       "      <td>2</td>\n",
       "      <td>6</td>\n",
       "      <td>0</td>\n",
       "      <td>4</td>\n",
       "      <td>1</td>\n",
       "      <td>39</td>\n",
       "      <td>1</td>\n",
       "    </tr>\n",
       "    <tr>\n",
       "      <th>32557</th>\n",
       "      <td>58.0</td>\n",
       "      <td>151910.0</td>\n",
       "      <td>9.0</td>\n",
       "      <td>0.0</td>\n",
       "      <td>0.0</td>\n",
       "      <td>40.0</td>\n",
       "      <td>4</td>\n",
       "      <td>11</td>\n",
       "      <td>6</td>\n",
       "      <td>0</td>\n",
       "      <td>4</td>\n",
       "      <td>4</td>\n",
       "      <td>0</td>\n",
       "      <td>39</td>\n",
       "      <td>0</td>\n",
       "    </tr>\n",
       "    <tr>\n",
       "      <th>32558</th>\n",
       "      <td>22.0</td>\n",
       "      <td>201490.0</td>\n",
       "      <td>9.0</td>\n",
       "      <td>0.0</td>\n",
       "      <td>0.0</td>\n",
       "      <td>20.0</td>\n",
       "      <td>4</td>\n",
       "      <td>11</td>\n",
       "      <td>4</td>\n",
       "      <td>0</td>\n",
       "      <td>3</td>\n",
       "      <td>4</td>\n",
       "      <td>1</td>\n",
       "      <td>39</td>\n",
       "      <td>0</td>\n",
       "    </tr>\n",
       "    <tr>\n",
       "      <th>32559</th>\n",
       "      <td>52.0</td>\n",
       "      <td>287927.0</td>\n",
       "      <td>9.0</td>\n",
       "      <td>15024.0</td>\n",
       "      <td>0.0</td>\n",
       "      <td>40.0</td>\n",
       "      <td>5</td>\n",
       "      <td>11</td>\n",
       "      <td>2</td>\n",
       "      <td>3</td>\n",
       "      <td>5</td>\n",
       "      <td>4</td>\n",
       "      <td>0</td>\n",
       "      <td>39</td>\n",
       "      <td>1</td>\n",
       "    </tr>\n",
       "  </tbody>\n",
       "</table>\n",
       "<p>32536 rows × 15 columns</p>\n",
       "</div>"
      ],
      "text/plain": [
       "        Age    Fnlwgt  Education_num  Capital_gain  Capital_loss  \\\n",
       "0      50.0   83311.0           13.0           0.0           0.0   \n",
       "1      38.0  215646.0            9.0           0.0           0.0   \n",
       "2      53.0  234721.0            7.0           0.0           0.0   \n",
       "3      28.0  338409.0           13.0           0.0           0.0   \n",
       "4      37.0  284582.0           14.0           0.0           0.0   \n",
       "...     ...       ...            ...           ...           ...   \n",
       "32555  27.0  257302.0           12.0           0.0           0.0   \n",
       "32556  40.0  154374.0            9.0           0.0           0.0   \n",
       "32557  58.0  151910.0            9.0           0.0           0.0   \n",
       "32558  22.0  201490.0            9.0           0.0           0.0   \n",
       "32559  52.0  287927.0            9.0       15024.0           0.0   \n",
       "\n",
       "       Hours_per_week  Workclass  Education  Marital_status  Occupation  \\\n",
       "0                13.0          6          9               2           3   \n",
       "1                40.0          4         11               0           5   \n",
       "2                40.0          4          1               2           5   \n",
       "3                40.0          4          9               2          10   \n",
       "4                40.0          4         12               2           3   \n",
       "...               ...        ...        ...             ...         ...   \n",
       "32555            38.0          4          7               2          13   \n",
       "32556            40.0          4         11               2           6   \n",
       "32557            40.0          4         11               6           0   \n",
       "32558            20.0          4         11               4           0   \n",
       "32559            40.0          5         11               2           3   \n",
       "\n",
       "       Relationship  Race  Sex  Native_country  Income  \n",
       "0                 0     4    1              39       0  \n",
       "1                 1     4    1              39       0  \n",
       "2                 0     2    1              39       0  \n",
       "3                 5     2    0               4       0  \n",
       "4                 5     4    0              39       0  \n",
       "...             ...   ...  ...             ...     ...  \n",
       "32555             5     4    0              39       0  \n",
       "32556             0     4    1              39       1  \n",
       "32557             4     4    0              39       0  \n",
       "32558             3     4    1              39       0  \n",
       "32559             5     4    0              39       1  \n",
       "\n",
       "[32536 rows x 15 columns]"
      ]
     },
     "execution_count": 56,
     "metadata": {},
     "output_type": "execute_result"
    }
   ],
   "source": [
    "df2=pd.concat([num_col,cat_col],axis =1)\n",
    "df2"
   ]
  },
  {
   "cell_type": "code",
   "execution_count": 57,
   "id": "543fae43",
   "metadata": {},
   "outputs": [],
   "source": [
    "# droppint the na columns\n",
    "df2 =df2.dropna()\n",
    "df2 =df2.reset_index(drop=True)\n"
   ]
  },
  {
   "cell_type": "code",
   "execution_count": 58,
   "id": "1dd7a819",
   "metadata": {},
   "outputs": [
    {
     "data": {
      "text/html": [
       "<div>\n",
       "<style scoped>\n",
       "    .dataframe tbody tr th:only-of-type {\n",
       "        vertical-align: middle;\n",
       "    }\n",
       "\n",
       "    .dataframe tbody tr th {\n",
       "        vertical-align: top;\n",
       "    }\n",
       "\n",
       "    .dataframe thead th {\n",
       "        text-align: right;\n",
       "    }\n",
       "</style>\n",
       "<table border=\"1\" class=\"dataframe\">\n",
       "  <thead>\n",
       "    <tr style=\"text-align: right;\">\n",
       "      <th></th>\n",
       "      <th>Age</th>\n",
       "      <th>Fnlwgt</th>\n",
       "      <th>Education_num</th>\n",
       "      <th>Capital_gain</th>\n",
       "      <th>Capital_loss</th>\n",
       "      <th>Hours_per_week</th>\n",
       "      <th>Workclass</th>\n",
       "      <th>Education</th>\n",
       "      <th>Marital_status</th>\n",
       "      <th>Occupation</th>\n",
       "      <th>Relationship</th>\n",
       "      <th>Race</th>\n",
       "      <th>Sex</th>\n",
       "      <th>Native_country</th>\n",
       "      <th>Income</th>\n",
       "    </tr>\n",
       "  </thead>\n",
       "  <tbody>\n",
       "    <tr>\n",
       "      <th>0</th>\n",
       "      <td>50.0</td>\n",
       "      <td>83311.0</td>\n",
       "      <td>13.0</td>\n",
       "      <td>0.0</td>\n",
       "      <td>0.0</td>\n",
       "      <td>13.0</td>\n",
       "      <td>6</td>\n",
       "      <td>9</td>\n",
       "      <td>2</td>\n",
       "      <td>3</td>\n",
       "      <td>0</td>\n",
       "      <td>4</td>\n",
       "      <td>1</td>\n",
       "      <td>39</td>\n",
       "      <td>0</td>\n",
       "    </tr>\n",
       "    <tr>\n",
       "      <th>1</th>\n",
       "      <td>38.0</td>\n",
       "      <td>215646.0</td>\n",
       "      <td>9.0</td>\n",
       "      <td>0.0</td>\n",
       "      <td>0.0</td>\n",
       "      <td>40.0</td>\n",
       "      <td>4</td>\n",
       "      <td>11</td>\n",
       "      <td>0</td>\n",
       "      <td>5</td>\n",
       "      <td>1</td>\n",
       "      <td>4</td>\n",
       "      <td>1</td>\n",
       "      <td>39</td>\n",
       "      <td>0</td>\n",
       "    </tr>\n",
       "    <tr>\n",
       "      <th>2</th>\n",
       "      <td>53.0</td>\n",
       "      <td>234721.0</td>\n",
       "      <td>7.0</td>\n",
       "      <td>0.0</td>\n",
       "      <td>0.0</td>\n",
       "      <td>40.0</td>\n",
       "      <td>4</td>\n",
       "      <td>1</td>\n",
       "      <td>2</td>\n",
       "      <td>5</td>\n",
       "      <td>0</td>\n",
       "      <td>2</td>\n",
       "      <td>1</td>\n",
       "      <td>39</td>\n",
       "      <td>0</td>\n",
       "    </tr>\n",
       "    <tr>\n",
       "      <th>3</th>\n",
       "      <td>28.0</td>\n",
       "      <td>338409.0</td>\n",
       "      <td>13.0</td>\n",
       "      <td>0.0</td>\n",
       "      <td>0.0</td>\n",
       "      <td>40.0</td>\n",
       "      <td>4</td>\n",
       "      <td>9</td>\n",
       "      <td>2</td>\n",
       "      <td>10</td>\n",
       "      <td>5</td>\n",
       "      <td>2</td>\n",
       "      <td>0</td>\n",
       "      <td>4</td>\n",
       "      <td>0</td>\n",
       "    </tr>\n",
       "    <tr>\n",
       "      <th>4</th>\n",
       "      <td>37.0</td>\n",
       "      <td>284582.0</td>\n",
       "      <td>14.0</td>\n",
       "      <td>0.0</td>\n",
       "      <td>0.0</td>\n",
       "      <td>40.0</td>\n",
       "      <td>4</td>\n",
       "      <td>12</td>\n",
       "      <td>2</td>\n",
       "      <td>3</td>\n",
       "      <td>5</td>\n",
       "      <td>4</td>\n",
       "      <td>0</td>\n",
       "      <td>39</td>\n",
       "      <td>0</td>\n",
       "    </tr>\n",
       "  </tbody>\n",
       "</table>\n",
       "</div>"
      ],
      "text/plain": [
       "    Age    Fnlwgt  Education_num  Capital_gain  Capital_loss  Hours_per_week  \\\n",
       "0  50.0   83311.0           13.0           0.0           0.0            13.0   \n",
       "1  38.0  215646.0            9.0           0.0           0.0            40.0   \n",
       "2  53.0  234721.0            7.0           0.0           0.0            40.0   \n",
       "3  28.0  338409.0           13.0           0.0           0.0            40.0   \n",
       "4  37.0  284582.0           14.0           0.0           0.0            40.0   \n",
       "\n",
       "   Workclass  Education  Marital_status  Occupation  Relationship  Race  Sex  \\\n",
       "0          6          9               2           3             0     4    1   \n",
       "1          4         11               0           5             1     4    1   \n",
       "2          4          1               2           5             0     2    1   \n",
       "3          4          9               2          10             5     2    0   \n",
       "4          4         12               2           3             5     4    0   \n",
       "\n",
       "   Native_country  Income  \n",
       "0              39       0  \n",
       "1              39       0  \n",
       "2              39       0  \n",
       "3               4       0  \n",
       "4              39       0  "
      ]
     },
     "execution_count": 58,
     "metadata": {},
     "output_type": "execute_result"
    }
   ],
   "source": [
    "df2.head()"
   ]
  },
  {
   "cell_type": "code",
   "execution_count": 59,
   "id": "11db6d73",
   "metadata": {},
   "outputs": [
    {
     "data": {
      "text/plain": [
       "(29913, 15)"
      ]
     },
     "execution_count": 59,
     "metadata": {},
     "output_type": "execute_result"
    }
   ],
   "source": [
    "df2.shape"
   ]
  },
  {
   "cell_type": "code",
   "execution_count": 60,
   "id": "70a0c7b3",
   "metadata": {},
   "outputs": [
    {
     "data": {
      "text/plain": [
       "8.061839193508728"
      ]
     },
     "execution_count": 60,
     "metadata": {},
     "output_type": "execute_result"
    }
   ],
   "source": [
    "#data loss calculate for quantile method\n",
    "(32536-29913)/32536*100"
   ]
  },
  {
   "cell_type": "markdown",
   "id": "3230c920",
   "metadata": {},
   "source": [
    "8% dataset losses after quantile method now we can proceed data modeling before we check correlation b/w features and target data"
   ]
  },
  {
   "cell_type": "code",
   "execution_count": 61,
   "id": "aa0f7d83",
   "metadata": {},
   "outputs": [
    {
     "data": {
      "text/html": [
       "<div>\n",
       "<style scoped>\n",
       "    .dataframe tbody tr th:only-of-type {\n",
       "        vertical-align: middle;\n",
       "    }\n",
       "\n",
       "    .dataframe tbody tr th {\n",
       "        vertical-align: top;\n",
       "    }\n",
       "\n",
       "    .dataframe thead th {\n",
       "        text-align: right;\n",
       "    }\n",
       "</style>\n",
       "<table border=\"1\" class=\"dataframe\">\n",
       "  <thead>\n",
       "    <tr style=\"text-align: right;\">\n",
       "      <th></th>\n",
       "      <th>Age</th>\n",
       "      <th>Fnlwgt</th>\n",
       "      <th>Education_num</th>\n",
       "      <th>Capital_gain</th>\n",
       "      <th>Capital_loss</th>\n",
       "      <th>Hours_per_week</th>\n",
       "      <th>Workclass</th>\n",
       "      <th>Education</th>\n",
       "      <th>Marital_status</th>\n",
       "      <th>Occupation</th>\n",
       "      <th>Relationship</th>\n",
       "      <th>Race</th>\n",
       "      <th>Sex</th>\n",
       "      <th>Native_country</th>\n",
       "      <th>Income</th>\n",
       "    </tr>\n",
       "  </thead>\n",
       "  <tbody>\n",
       "    <tr>\n",
       "      <th>Age</th>\n",
       "      <td>1.000000</td>\n",
       "      <td>-0.066489</td>\n",
       "      <td>0.068328</td>\n",
       "      <td>0.084949</td>\n",
       "      <td>0.057866</td>\n",
       "      <td>0.149021</td>\n",
       "      <td>0.006447</td>\n",
       "      <td>0.001791</td>\n",
       "      <td>-0.309524</td>\n",
       "      <td>-0.008415</td>\n",
       "      <td>-0.268049</td>\n",
       "      <td>0.028991</td>\n",
       "      <td>0.094346</td>\n",
       "      <td>-0.001868</td>\n",
       "      <td>0.264813</td>\n",
       "    </tr>\n",
       "    <tr>\n",
       "      <th>Fnlwgt</th>\n",
       "      <td>-0.066489</td>\n",
       "      <td>1.000000</td>\n",
       "      <td>-0.021114</td>\n",
       "      <td>-0.000954</td>\n",
       "      <td>-0.004312</td>\n",
       "      <td>-0.016924</td>\n",
       "      <td>-0.016723</td>\n",
       "      <td>-0.012021</td>\n",
       "      <td>0.028222</td>\n",
       "      <td>0.002337</td>\n",
       "      <td>0.003550</td>\n",
       "      <td>-0.010967</td>\n",
       "      <td>0.027314</td>\n",
       "      <td>-0.047578</td>\n",
       "      <td>-0.001904</td>\n",
       "    </tr>\n",
       "    <tr>\n",
       "      <th>Education_num</th>\n",
       "      <td>0.068328</td>\n",
       "      <td>-0.021114</td>\n",
       "      <td>1.000000</td>\n",
       "      <td>0.120929</td>\n",
       "      <td>0.082293</td>\n",
       "      <td>0.176173</td>\n",
       "      <td>-0.011094</td>\n",
       "      <td>0.308748</td>\n",
       "      <td>-0.063241</td>\n",
       "      <td>0.101268</td>\n",
       "      <td>-0.108867</td>\n",
       "      <td>0.031646</td>\n",
       "      <td>0.022206</td>\n",
       "      <td>-0.002218</td>\n",
       "      <td>0.339532</td>\n",
       "    </tr>\n",
       "    <tr>\n",
       "      <th>Capital_gain</th>\n",
       "      <td>0.084949</td>\n",
       "      <td>-0.000954</td>\n",
       "      <td>0.120929</td>\n",
       "      <td>1.000000</td>\n",
       "      <td>-0.031891</td>\n",
       "      <td>0.080843</td>\n",
       "      <td>0.028383</td>\n",
       "      <td>0.027000</td>\n",
       "      <td>-0.042969</td>\n",
       "      <td>0.018316</td>\n",
       "      <td>-0.056610</td>\n",
       "      <td>0.010211</td>\n",
       "      <td>0.045772</td>\n",
       "      <td>0.002469</td>\n",
       "      <td>0.221472</td>\n",
       "    </tr>\n",
       "    <tr>\n",
       "      <th>Capital_loss</th>\n",
       "      <td>0.057866</td>\n",
       "      <td>-0.004312</td>\n",
       "      <td>0.082293</td>\n",
       "      <td>-0.031891</td>\n",
       "      <td>1.000000</td>\n",
       "      <td>0.057403</td>\n",
       "      <td>-0.004401</td>\n",
       "      <td>0.014267</td>\n",
       "      <td>-0.034237</td>\n",
       "      <td>0.011893</td>\n",
       "      <td>-0.060362</td>\n",
       "      <td>0.018536</td>\n",
       "      <td>0.046879</td>\n",
       "      <td>0.004125</td>\n",
       "      <td>0.150960</td>\n",
       "    </tr>\n",
       "    <tr>\n",
       "      <th>Hours_per_week</th>\n",
       "      <td>0.149021</td>\n",
       "      <td>-0.016924</td>\n",
       "      <td>0.176173</td>\n",
       "      <td>0.080843</td>\n",
       "      <td>0.057403</td>\n",
       "      <td>1.000000</td>\n",
       "      <td>0.035570</td>\n",
       "      <td>0.052202</td>\n",
       "      <td>-0.201567</td>\n",
       "      <td>-0.006559</td>\n",
       "      <td>-0.277778</td>\n",
       "      <td>0.050208</td>\n",
       "      <td>0.240909</td>\n",
       "      <td>0.002332</td>\n",
       "      <td>0.252820</td>\n",
       "    </tr>\n",
       "    <tr>\n",
       "      <th>Workclass</th>\n",
       "      <td>0.006447</td>\n",
       "      <td>-0.016723</td>\n",
       "      <td>-0.011094</td>\n",
       "      <td>0.028383</td>\n",
       "      <td>-0.004401</td>\n",
       "      <td>0.035570</td>\n",
       "      <td>1.000000</td>\n",
       "      <td>0.001983</td>\n",
       "      <td>-0.018495</td>\n",
       "      <td>-0.001413</td>\n",
       "      <td>-0.056753</td>\n",
       "      <td>0.053134</td>\n",
       "      <td>0.071228</td>\n",
       "      <td>-0.009115</td>\n",
       "      <td>-0.002847</td>\n",
       "    </tr>\n",
       "    <tr>\n",
       "      <th>Education</th>\n",
       "      <td>0.001791</td>\n",
       "      <td>-0.012021</td>\n",
       "      <td>0.308748</td>\n",
       "      <td>0.027000</td>\n",
       "      <td>0.014267</td>\n",
       "      <td>0.052202</td>\n",
       "      <td>0.001983</td>\n",
       "      <td>1.000000</td>\n",
       "      <td>-0.034414</td>\n",
       "      <td>-0.034403</td>\n",
       "      <td>-0.012450</td>\n",
       "      <td>0.015626</td>\n",
       "      <td>-0.025986</td>\n",
       "      <td>0.038934</td>\n",
       "      <td>0.065059</td>\n",
       "    </tr>\n",
       "    <tr>\n",
       "      <th>Marital_status</th>\n",
       "      <td>-0.309524</td>\n",
       "      <td>0.028222</td>\n",
       "      <td>-0.063241</td>\n",
       "      <td>-0.042969</td>\n",
       "      <td>-0.034237</td>\n",
       "      <td>-0.201567</td>\n",
       "      <td>-0.018495</td>\n",
       "      <td>-0.034414</td>\n",
       "      <td>1.000000</td>\n",
       "      <td>0.028615</td>\n",
       "      <td>0.182821</td>\n",
       "      <td>-0.069538</td>\n",
       "      <td>-0.120731</td>\n",
       "      <td>-0.017674</td>\n",
       "      <td>-0.198518</td>\n",
       "    </tr>\n",
       "    <tr>\n",
       "      <th>Occupation</th>\n",
       "      <td>-0.008415</td>\n",
       "      <td>0.002337</td>\n",
       "      <td>0.101268</td>\n",
       "      <td>0.018316</td>\n",
       "      <td>0.011893</td>\n",
       "      <td>-0.006559</td>\n",
       "      <td>-0.001413</td>\n",
       "      <td>-0.034403</td>\n",
       "      <td>0.028615</td>\n",
       "      <td>1.000000</td>\n",
       "      <td>-0.042990</td>\n",
       "      <td>-0.001406</td>\n",
       "      <td>0.046270</td>\n",
       "      <td>-0.008927</td>\n",
       "      <td>0.044602</td>\n",
       "    </tr>\n",
       "    <tr>\n",
       "      <th>Relationship</th>\n",
       "      <td>-0.268049</td>\n",
       "      <td>0.003550</td>\n",
       "      <td>-0.108867</td>\n",
       "      <td>-0.056610</td>\n",
       "      <td>-0.060362</td>\n",
       "      <td>-0.277778</td>\n",
       "      <td>-0.056753</td>\n",
       "      <td>-0.012450</td>\n",
       "      <td>0.182821</td>\n",
       "      <td>-0.042990</td>\n",
       "      <td>1.000000</td>\n",
       "      <td>-0.116089</td>\n",
       "      <td>-0.582167</td>\n",
       "      <td>-0.008881</td>\n",
       "      <td>-0.254390</td>\n",
       "    </tr>\n",
       "    <tr>\n",
       "      <th>Race</th>\n",
       "      <td>0.028991</td>\n",
       "      <td>-0.010967</td>\n",
       "      <td>0.031646</td>\n",
       "      <td>0.010211</td>\n",
       "      <td>0.018536</td>\n",
       "      <td>0.050208</td>\n",
       "      <td>0.053134</td>\n",
       "      <td>0.015626</td>\n",
       "      <td>-0.069538</td>\n",
       "      <td>-0.001406</td>\n",
       "      <td>-0.116089</td>\n",
       "      <td>1.000000</td>\n",
       "      <td>0.090081</td>\n",
       "      <td>0.148078</td>\n",
       "      <td>0.075063</td>\n",
       "    </tr>\n",
       "    <tr>\n",
       "      <th>Sex</th>\n",
       "      <td>0.094346</td>\n",
       "      <td>0.027314</td>\n",
       "      <td>0.022206</td>\n",
       "      <td>0.045772</td>\n",
       "      <td>0.046879</td>\n",
       "      <td>0.240909</td>\n",
       "      <td>0.071228</td>\n",
       "      <td>-0.025986</td>\n",
       "      <td>-0.120731</td>\n",
       "      <td>0.046270</td>\n",
       "      <td>-0.582167</td>\n",
       "      <td>0.090081</td>\n",
       "      <td>1.000000</td>\n",
       "      <td>0.000483</td>\n",
       "      <td>0.218241</td>\n",
       "    </tr>\n",
       "    <tr>\n",
       "      <th>Native_country</th>\n",
       "      <td>-0.001868</td>\n",
       "      <td>-0.047578</td>\n",
       "      <td>-0.002218</td>\n",
       "      <td>0.002469</td>\n",
       "      <td>0.004125</td>\n",
       "      <td>0.002332</td>\n",
       "      <td>-0.009115</td>\n",
       "      <td>0.038934</td>\n",
       "      <td>-0.017674</td>\n",
       "      <td>-0.008927</td>\n",
       "      <td>-0.008881</td>\n",
       "      <td>0.148078</td>\n",
       "      <td>0.000483</td>\n",
       "      <td>1.000000</td>\n",
       "      <td>0.008638</td>\n",
       "    </tr>\n",
       "    <tr>\n",
       "      <th>Income</th>\n",
       "      <td>0.264813</td>\n",
       "      <td>-0.001904</td>\n",
       "      <td>0.339532</td>\n",
       "      <td>0.221472</td>\n",
       "      <td>0.150960</td>\n",
       "      <td>0.252820</td>\n",
       "      <td>-0.002847</td>\n",
       "      <td>0.065059</td>\n",
       "      <td>-0.198518</td>\n",
       "      <td>0.044602</td>\n",
       "      <td>-0.254390</td>\n",
       "      <td>0.075063</td>\n",
       "      <td>0.218241</td>\n",
       "      <td>0.008638</td>\n",
       "      <td>1.000000</td>\n",
       "    </tr>\n",
       "  </tbody>\n",
       "</table>\n",
       "</div>"
      ],
      "text/plain": [
       "                     Age    Fnlwgt  Education_num  Capital_gain  Capital_loss  \\\n",
       "Age             1.000000 -0.066489       0.068328      0.084949      0.057866   \n",
       "Fnlwgt         -0.066489  1.000000      -0.021114     -0.000954     -0.004312   \n",
       "Education_num   0.068328 -0.021114       1.000000      0.120929      0.082293   \n",
       "Capital_gain    0.084949 -0.000954       0.120929      1.000000     -0.031891   \n",
       "Capital_loss    0.057866 -0.004312       0.082293     -0.031891      1.000000   \n",
       "Hours_per_week  0.149021 -0.016924       0.176173      0.080843      0.057403   \n",
       "Workclass       0.006447 -0.016723      -0.011094      0.028383     -0.004401   \n",
       "Education       0.001791 -0.012021       0.308748      0.027000      0.014267   \n",
       "Marital_status -0.309524  0.028222      -0.063241     -0.042969     -0.034237   \n",
       "Occupation     -0.008415  0.002337       0.101268      0.018316      0.011893   \n",
       "Relationship   -0.268049  0.003550      -0.108867     -0.056610     -0.060362   \n",
       "Race            0.028991 -0.010967       0.031646      0.010211      0.018536   \n",
       "Sex             0.094346  0.027314       0.022206      0.045772      0.046879   \n",
       "Native_country -0.001868 -0.047578      -0.002218      0.002469      0.004125   \n",
       "Income          0.264813 -0.001904       0.339532      0.221472      0.150960   \n",
       "\n",
       "                Hours_per_week  Workclass  Education  Marital_status  \\\n",
       "Age                   0.149021   0.006447   0.001791       -0.309524   \n",
       "Fnlwgt               -0.016924  -0.016723  -0.012021        0.028222   \n",
       "Education_num         0.176173  -0.011094   0.308748       -0.063241   \n",
       "Capital_gain          0.080843   0.028383   0.027000       -0.042969   \n",
       "Capital_loss          0.057403  -0.004401   0.014267       -0.034237   \n",
       "Hours_per_week        1.000000   0.035570   0.052202       -0.201567   \n",
       "Workclass             0.035570   1.000000   0.001983       -0.018495   \n",
       "Education             0.052202   0.001983   1.000000       -0.034414   \n",
       "Marital_status       -0.201567  -0.018495  -0.034414        1.000000   \n",
       "Occupation           -0.006559  -0.001413  -0.034403        0.028615   \n",
       "Relationship         -0.277778  -0.056753  -0.012450        0.182821   \n",
       "Race                  0.050208   0.053134   0.015626       -0.069538   \n",
       "Sex                   0.240909   0.071228  -0.025986       -0.120731   \n",
       "Native_country        0.002332  -0.009115   0.038934       -0.017674   \n",
       "Income                0.252820  -0.002847   0.065059       -0.198518   \n",
       "\n",
       "                Occupation  Relationship      Race       Sex  Native_country  \\\n",
       "Age              -0.008415     -0.268049  0.028991  0.094346       -0.001868   \n",
       "Fnlwgt            0.002337      0.003550 -0.010967  0.027314       -0.047578   \n",
       "Education_num     0.101268     -0.108867  0.031646  0.022206       -0.002218   \n",
       "Capital_gain      0.018316     -0.056610  0.010211  0.045772        0.002469   \n",
       "Capital_loss      0.011893     -0.060362  0.018536  0.046879        0.004125   \n",
       "Hours_per_week   -0.006559     -0.277778  0.050208  0.240909        0.002332   \n",
       "Workclass        -0.001413     -0.056753  0.053134  0.071228       -0.009115   \n",
       "Education        -0.034403     -0.012450  0.015626 -0.025986        0.038934   \n",
       "Marital_status    0.028615      0.182821 -0.069538 -0.120731       -0.017674   \n",
       "Occupation        1.000000     -0.042990 -0.001406  0.046270       -0.008927   \n",
       "Relationship     -0.042990      1.000000 -0.116089 -0.582167       -0.008881   \n",
       "Race             -0.001406     -0.116089  1.000000  0.090081        0.148078   \n",
       "Sex               0.046270     -0.582167  0.090081  1.000000        0.000483   \n",
       "Native_country   -0.008927     -0.008881  0.148078  0.000483        1.000000   \n",
       "Income            0.044602     -0.254390  0.075063  0.218241        0.008638   \n",
       "\n",
       "                  Income  \n",
       "Age             0.264813  \n",
       "Fnlwgt         -0.001904  \n",
       "Education_num   0.339532  \n",
       "Capital_gain    0.221472  \n",
       "Capital_loss    0.150960  \n",
       "Hours_per_week  0.252820  \n",
       "Workclass      -0.002847  \n",
       "Education       0.065059  \n",
       "Marital_status -0.198518  \n",
       "Occupation      0.044602  \n",
       "Relationship   -0.254390  \n",
       "Race            0.075063  \n",
       "Sex             0.218241  \n",
       "Native_country  0.008638  \n",
       "Income          1.000000  "
      ]
     },
     "execution_count": 61,
     "metadata": {},
     "output_type": "execute_result"
    }
   ],
   "source": [
    "#Checking the correlation \n",
    "df2.corr()"
   ]
  },
  {
   "cell_type": "code",
   "execution_count": 62,
   "id": "8799dad1",
   "metadata": {},
   "outputs": [
    {
     "data": {
      "text/plain": [
       "<function matplotlib.pyplot.show(close=None, block=None)>"
      ]
     },
     "execution_count": 62,
     "metadata": {},
     "output_type": "execute_result"
    },
    {
     "data": {
      "image/png": "[encoded data removed]",
      "text/plain": [
       "<Figure size 1584x504 with 1 Axes>"
      ]
     },
     "metadata": {
      "needs_background": "light"
     },
     "output_type": "display_data"
    }
   ],
   "source": [
    "#visualize correlation b/w features and target variables\n",
    "plt.figure(figsize=(22,7))\n",
    "df2.corr()['Income'].sort_values(ascending=False).drop(['Income']).plot(kind='bar',color='c')\n",
    "plt.xlabel('feature',fontsize=14)\n",
    "plt.ylabel('column with target names',fontsize=14)\n",
    "plt.title('correlation',fontsize=18)\n",
    "plt.show"
   ]
  },
  {
   "cell_type": "code",
   "execution_count": 63,
   "id": "572e7fd5",
   "metadata": {},
   "outputs": [
    {
     "data": {
      "image/png": "[encoded data removed]",
      "text/plain": [
       "<Figure size 1224x936 with 2 Axes>"
      ]
     },
     "metadata": {
      "needs_background": "light"
     },
     "output_type": "display_data"
    }
   ],
   "source": [
    "#using heatmap to visualization correlation b/w features and target variables\n",
    "#heat map\n",
    "fig, ax = plt.subplots(figsize=(17,13))\n",
    "sns.heatmap(df2.corr(),cmap = 'rainbow', annot=True, linewidths=.5, ax=ax)\n",
    "plt.show()"
   ]
  },
  {
   "cell_type": "markdown",
   "id": "265402e6",
   "metadata": {},
   "source": [
    "we do not have any correlation for features and target variables\n",
    "\n",
    "now seperate target and weight in our cleaned dataset"
   ]
  },
  {
   "cell_type": "code",
   "execution_count": 64,
   "id": "7b5b29f9",
   "metadata": {},
   "outputs": [],
   "source": [
    "X = df2.drop(columns = ['Income'],axis = 1)\n",
    "y = df2['Income']"
   ]
  },
  {
   "cell_type": "code",
   "execution_count": 65,
   "id": "c13326c1",
   "metadata": {},
   "outputs": [
    {
     "data": {
      "text/html": [
       "<div>\n",
       "<style scoped>\n",
       "    .dataframe tbody tr th:only-of-type {\n",
       "        vertical-align: middle;\n",
       "    }\n",
       "\n",
       "    .dataframe tbody tr th {\n",
       "        vertical-align: top;\n",
       "    }\n",
       "\n",
       "    .dataframe thead th {\n",
       "        text-align: right;\n",
       "    }\n",
       "</style>\n",
       "<table border=\"1\" class=\"dataframe\">\n",
       "  <thead>\n",
       "    <tr style=\"text-align: right;\">\n",
       "      <th></th>\n",
       "      <th>Age</th>\n",
       "      <th>Fnlwgt</th>\n",
       "      <th>Education_num</th>\n",
       "      <th>Capital_gain</th>\n",
       "      <th>Capital_loss</th>\n",
       "      <th>Hours_per_week</th>\n",
       "      <th>Workclass</th>\n",
       "      <th>Education</th>\n",
       "      <th>Marital_status</th>\n",
       "      <th>Occupation</th>\n",
       "      <th>Relationship</th>\n",
       "      <th>Race</th>\n",
       "      <th>Sex</th>\n",
       "      <th>Native_country</th>\n",
       "    </tr>\n",
       "  </thead>\n",
       "  <tbody>\n",
       "    <tr>\n",
       "      <th>0</th>\n",
       "      <td>50.0</td>\n",
       "      <td>83311.0</td>\n",
       "      <td>13.0</td>\n",
       "      <td>0.0</td>\n",
       "      <td>0.0</td>\n",
       "      <td>13.0</td>\n",
       "      <td>6</td>\n",
       "      <td>9</td>\n",
       "      <td>2</td>\n",
       "      <td>3</td>\n",
       "      <td>0</td>\n",
       "      <td>4</td>\n",
       "      <td>1</td>\n",
       "      <td>39</td>\n",
       "    </tr>\n",
       "    <tr>\n",
       "      <th>1</th>\n",
       "      <td>38.0</td>\n",
       "      <td>215646.0</td>\n",
       "      <td>9.0</td>\n",
       "      <td>0.0</td>\n",
       "      <td>0.0</td>\n",
       "      <td>40.0</td>\n",
       "      <td>4</td>\n",
       "      <td>11</td>\n",
       "      <td>0</td>\n",
       "      <td>5</td>\n",
       "      <td>1</td>\n",
       "      <td>4</td>\n",
       "      <td>1</td>\n",
       "      <td>39</td>\n",
       "    </tr>\n",
       "    <tr>\n",
       "      <th>2</th>\n",
       "      <td>53.0</td>\n",
       "      <td>234721.0</td>\n",
       "      <td>7.0</td>\n",
       "      <td>0.0</td>\n",
       "      <td>0.0</td>\n",
       "      <td>40.0</td>\n",
       "      <td>4</td>\n",
       "      <td>1</td>\n",
       "      <td>2</td>\n",
       "      <td>5</td>\n",
       "      <td>0</td>\n",
       "      <td>2</td>\n",
       "      <td>1</td>\n",
       "      <td>39</td>\n",
       "    </tr>\n",
       "    <tr>\n",
       "      <th>3</th>\n",
       "      <td>28.0</td>\n",
       "      <td>338409.0</td>\n",
       "      <td>13.0</td>\n",
       "      <td>0.0</td>\n",
       "      <td>0.0</td>\n",
       "      <td>40.0</td>\n",
       "      <td>4</td>\n",
       "      <td>9</td>\n",
       "      <td>2</td>\n",
       "      <td>10</td>\n",
       "      <td>5</td>\n",
       "      <td>2</td>\n",
       "      <td>0</td>\n",
       "      <td>4</td>\n",
       "    </tr>\n",
       "    <tr>\n",
       "      <th>4</th>\n",
       "      <td>37.0</td>\n",
       "      <td>284582.0</td>\n",
       "      <td>14.0</td>\n",
       "      <td>0.0</td>\n",
       "      <td>0.0</td>\n",
       "      <td>40.0</td>\n",
       "      <td>4</td>\n",
       "      <td>12</td>\n",
       "      <td>2</td>\n",
       "      <td>3</td>\n",
       "      <td>5</td>\n",
       "      <td>4</td>\n",
       "      <td>0</td>\n",
       "      <td>39</td>\n",
       "    </tr>\n",
       "  </tbody>\n",
       "</table>\n",
       "</div>"
      ],
      "text/plain": [
       "    Age    Fnlwgt  Education_num  Capital_gain  Capital_loss  Hours_per_week  \\\n",
       "0  50.0   83311.0           13.0           0.0           0.0            13.0   \n",
       "1  38.0  215646.0            9.0           0.0           0.0            40.0   \n",
       "2  53.0  234721.0            7.0           0.0           0.0            40.0   \n",
       "3  28.0  338409.0           13.0           0.0           0.0            40.0   \n",
       "4  37.0  284582.0           14.0           0.0           0.0            40.0   \n",
       "\n",
       "   Workclass  Education  Marital_status  Occupation  Relationship  Race  Sex  \\\n",
       "0          6          9               2           3             0     4    1   \n",
       "1          4         11               0           5             1     4    1   \n",
       "2          4          1               2           5             0     2    1   \n",
       "3          4          9               2          10             5     2    0   \n",
       "4          4         12               2           3             5     4    0   \n",
       "\n",
       "   Native_country  \n",
       "0              39  \n",
       "1              39  \n",
       "2              39  \n",
       "3               4  \n",
       "4              39  "
      ]
     },
     "execution_count": 65,
     "metadata": {},
     "output_type": "execute_result"
    }
   ],
   "source": [
    "X.head()"
   ]
  },
  {
   "cell_type": "code",
   "execution_count": 66,
   "id": "20b7534c",
   "metadata": {},
   "outputs": [],
   "source": [
    "from sklearn.preprocessing import StandardScaler\n",
    "scaler = StandardScaler()\n",
    "\n",
    "x= pd.DataFrame(scaler.fit_transform(X), columns=X.columns)"
   ]
  },
  {
   "cell_type": "code",
   "execution_count": 67,
   "id": "d8eb91a0",
   "metadata": {},
   "outputs": [
    {
     "data": {
      "text/html": [
       "<div>\n",
       "<style scoped>\n",
       "    .dataframe tbody tr th:only-of-type {\n",
       "        vertical-align: middle;\n",
       "    }\n",
       "\n",
       "    .dataframe tbody tr th {\n",
       "        vertical-align: top;\n",
       "    }\n",
       "\n",
       "    .dataframe thead th {\n",
       "        text-align: right;\n",
       "    }\n",
       "</style>\n",
       "<table border=\"1\" class=\"dataframe\">\n",
       "  <thead>\n",
       "    <tr style=\"text-align: right;\">\n",
       "      <th></th>\n",
       "      <th>Age</th>\n",
       "      <th>Fnlwgt</th>\n",
       "      <th>Education_num</th>\n",
       "      <th>Capital_gain</th>\n",
       "      <th>Capital_loss</th>\n",
       "      <th>Hours_per_week</th>\n",
       "      <th>Workclass</th>\n",
       "      <th>Education</th>\n",
       "      <th>Marital_status</th>\n",
       "      <th>Occupation</th>\n",
       "      <th>Relationship</th>\n",
       "      <th>Race</th>\n",
       "      <th>Sex</th>\n",
       "      <th>Native_country</th>\n",
       "    </tr>\n",
       "  </thead>\n",
       "  <tbody>\n",
       "    <tr>\n",
       "      <th>0</th>\n",
       "      <td>0.927435</td>\n",
       "      <td>-1.095088</td>\n",
       "      <td>1.176566</td>\n",
       "      <td>-0.146225</td>\n",
       "      <td>-0.218093</td>\n",
       "      <td>-2.694364</td>\n",
       "      <td>1.531057</td>\n",
       "      <td>-0.373654</td>\n",
       "      <td>-0.397751</td>\n",
       "      <td>-0.786468</td>\n",
       "      <td>-0.907237</td>\n",
       "      <td>0.392183</td>\n",
       "      <td>0.709768</td>\n",
       "      <td>0.270253</td>\n",
       "    </tr>\n",
       "    <tr>\n",
       "      <th>1</th>\n",
       "      <td>-0.000838</td>\n",
       "      <td>0.369192</td>\n",
       "      <td>-0.513980</td>\n",
       "      <td>-0.146225</td>\n",
       "      <td>-0.218093</td>\n",
       "      <td>-0.011067</td>\n",
       "      <td>0.050629</td>\n",
       "      <td>0.153195</td>\n",
       "      <td>-1.728689</td>\n",
       "      <td>-0.329655</td>\n",
       "      <td>-0.286865</td>\n",
       "      <td>0.392183</td>\n",
       "      <td>0.709768</td>\n",
       "      <td>0.270253</td>\n",
       "    </tr>\n",
       "    <tr>\n",
       "      <th>2</th>\n",
       "      <td>1.159503</td>\n",
       "      <td>0.580256</td>\n",
       "      <td>-1.359253</td>\n",
       "      <td>-0.146225</td>\n",
       "      <td>-0.218093</td>\n",
       "      <td>-0.011067</td>\n",
       "      <td>0.050629</td>\n",
       "      <td>-2.481051</td>\n",
       "      <td>-0.397751</td>\n",
       "      <td>-0.329655</td>\n",
       "      <td>-0.907237</td>\n",
       "      <td>-1.963748</td>\n",
       "      <td>0.709768</td>\n",
       "      <td>0.270253</td>\n",
       "    </tr>\n",
       "    <tr>\n",
       "      <th>3</th>\n",
       "      <td>-0.774399</td>\n",
       "      <td>1.727558</td>\n",
       "      <td>1.176566</td>\n",
       "      <td>-0.146225</td>\n",
       "      <td>-0.218093</td>\n",
       "      <td>-0.011067</td>\n",
       "      <td>0.050629</td>\n",
       "      <td>-0.373654</td>\n",
       "      <td>-0.397751</td>\n",
       "      <td>0.812376</td>\n",
       "      <td>2.194625</td>\n",
       "      <td>-1.963748</td>\n",
       "      <td>-1.408911</td>\n",
       "      <td>-5.392113</td>\n",
       "    </tr>\n",
       "    <tr>\n",
       "      <th>4</th>\n",
       "      <td>-0.078194</td>\n",
       "      <td>1.131965</td>\n",
       "      <td>1.599203</td>\n",
       "      <td>-0.146225</td>\n",
       "      <td>-0.218093</td>\n",
       "      <td>-0.011067</td>\n",
       "      <td>0.050629</td>\n",
       "      <td>0.416620</td>\n",
       "      <td>-0.397751</td>\n",
       "      <td>-0.786468</td>\n",
       "      <td>2.194625</td>\n",
       "      <td>0.392183</td>\n",
       "      <td>-1.408911</td>\n",
       "      <td>0.270253</td>\n",
       "    </tr>\n",
       "  </tbody>\n",
       "</table>\n",
       "</div>"
      ],
      "text/plain": [
       "        Age    Fnlwgt  Education_num  Capital_gain  Capital_loss  \\\n",
       "0  0.927435 -1.095088       1.176566     -0.146225     -0.218093   \n",
       "1 -0.000838  0.369192      -0.513980     -0.146225     -0.218093   \n",
       "2  1.159503  0.580256      -1.359253     -0.146225     -0.218093   \n",
       "3 -0.774399  1.727558       1.176566     -0.146225     -0.218093   \n",
       "4 -0.078194  1.131965       1.599203     -0.146225     -0.218093   \n",
       "\n",
       "   Hours_per_week  Workclass  Education  Marital_status  Occupation  \\\n",
       "0       -2.694364   1.531057  -0.373654       -0.397751   -0.786468   \n",
       "1       -0.011067   0.050629   0.153195       -1.728689   -0.329655   \n",
       "2       -0.011067   0.050629  -2.481051       -0.397751   -0.329655   \n",
       "3       -0.011067   0.050629  -0.373654       -0.397751    0.812376   \n",
       "4       -0.011067   0.050629   0.416620       -0.397751   -0.786468   \n",
       "\n",
       "   Relationship      Race       Sex  Native_country  \n",
       "0     -0.907237  0.392183  0.709768        0.270253  \n",
       "1     -0.286865  0.392183  0.709768        0.270253  \n",
       "2     -0.907237 -1.963748  0.709768        0.270253  \n",
       "3      2.194625 -1.963748 -1.408911       -5.392113  \n",
       "4      2.194625  0.392183 -1.408911        0.270253  "
      ]
     },
     "execution_count": 67,
     "metadata": {},
     "output_type": "execute_result"
    }
   ],
   "source": [
    "x.head()"
   ]
  },
  {
   "cell_type": "code",
   "execution_count": 68,
   "id": "903dcb3d",
   "metadata": {},
   "outputs": [
    {
     "data": {
      "text/plain": [
       "0        0\n",
       "1        0\n",
       "2        0\n",
       "3        0\n",
       "4        0\n",
       "        ..\n",
       "29908    0\n",
       "29909    1\n",
       "29910    0\n",
       "29911    0\n",
       "29912    1\n",
       "Name: Income, Length: 29913, dtype: int32"
      ]
     },
     "execution_count": 68,
     "metadata": {},
     "output_type": "execute_result"
    }
   ],
   "source": [
    "y"
   ]
  },
  {
   "cell_type": "code",
   "execution_count": 69,
   "id": "b036a33d",
   "metadata": {},
   "outputs": [
    {
     "data": {
      "text/plain": [
       "0    22595\n",
       "1     7318\n",
       "Name: Income, dtype: int64"
      ]
     },
     "execution_count": 69,
     "metadata": {},
     "output_type": "execute_result"
    }
   ],
   "source": [
    "y.value_counts()"
   ]
  },
  {
   "cell_type": "code",
   "execution_count": 70,
   "id": "4e1b98f6",
   "metadata": {},
   "outputs": [
    {
     "data": {
      "text/plain": [
       "<AxesSubplot:xlabel='Income', ylabel='count'>"
      ]
     },
     "execution_count": 70,
     "metadata": {},
     "output_type": "execute_result"
    },
    {
     "data": {
      "image/png": "[encoded data removed]",
      "text/plain": [
       "<Figure size 432x288 with 1 Axes>"
      ]
     },
     "metadata": {
      "needs_background": "light"
     },
     "output_type": "display_data"
    }
   ],
   "source": [
    "#let’s visualize the count of target variable using Seaborn\n",
    "sns.countplot(df2['Income'])"
   ]
  },
  {
   "cell_type": "markdown",
   "id": "a3ba6a84",
   "metadata": {},
   "source": [
    "We can see that classes are imbalanced and we use SMOTE() technique to balance the imbalanced dataset,"
   ]
  },
  {
   "cell_type": "code",
   "execution_count": 73,
   "id": "45f8ce95",
   "metadata": {},
   "outputs": [],
   "source": [
    "#convert imbalanced data into balance data\n",
    "from imblearn.over_sampling import SMOTE\n",
    "SM = SMOTE()\n",
    "x , y = SM.fit_resample(x,y)"
   ]
  },
  {
   "cell_type": "code",
   "execution_count": 72,
   "id": "b09dbd9b",
   "metadata": {},
   "outputs": [
    {
     "data": {
      "text/plain": [
       "<AxesSubplot:xlabel='Income', ylabel='count'>"
      ]
     },
     "execution_count": 72,
     "metadata": {},
     "output_type": "execute_result"
    },
    {
     "data": {
      "image/png": "[encoded data removed]",
      "text/plain": [
       "<Figure size 432x288 with 1 Axes>"
      ]
     },
     "metadata": {
      "needs_background": "light"
     },
     "output_type": "display_data"
    }
   ],
   "source": [
    "#Now the classes are balanced.\n",
    "\n",
    "sns.countplot(y)"
   ]
  },
  {
   "cell_type": "code",
   "execution_count": 74,
   "id": "1f6a9980",
   "metadata": {},
   "outputs": [
    {
     "data": {
      "text/plain": [
       "0    22595\n",
       "1    22595\n",
       "Name: Income, dtype: int64"
      ]
     },
     "execution_count": 74,
     "metadata": {},
     "output_type": "execute_result"
    }
   ],
   "source": [
    "y.value_counts()"
   ]
  },
  {
   "cell_type": "markdown",
   "id": "8aa7d458",
   "metadata": {},
   "source": [
    "# Model building"
   ]
  },
  {
   "cell_type": "code",
   "execution_count": 76,
   "id": "9f59ce30",
   "metadata": {},
   "outputs": [],
   "source": [
    "##import libraries\n",
    "from sklearn.linear_model import LogisticRegression\n",
    "from sklearn.neighbors import KNeighborsClassifier\n",
    "from sklearn.ensemble import RandomForestClassifier\n",
    "from sklearn.tree import DecisionTreeClassifier\n",
    "from sklearn.metrics import classification_report,confusion_matrix,accuracy_score,classification_report\n",
    "from sklearn.model_selection import train_test_split\n",
    "from sklearn.ensemble import AdaBoostClassifier\n",
    "from sklearn.ensemble import GradientBoostingClassifier\n",
    "from sklearn.ensemble import BaggingClassifier\n",
    "from sklearn.model_selection import GridSearchCV\n",
    "from sklearn.model_selection import cross_val_score\n",
    "from sklearn.metrics import roc_auc_score,roc_curve"
   ]
  },
  {
   "cell_type": "code",
   "execution_count": 77,
   "id": "27d378d2",
   "metadata": {},
   "outputs": [],
   "source": [
    "#split train test data\n",
    "x_train, x_test, y_train, y_test = train_test_split(x,y, test_size=0.20, random_state=50)"
   ]
  },
  {
   "cell_type": "code",
   "execution_count": 78,
   "id": "485b8207",
   "metadata": {},
   "outputs": [
    {
     "data": {
      "text/plain": [
       "((36152, 14), (9038, 14), (36152,), (9038,))"
      ]
     },
     "execution_count": 78,
     "metadata": {},
     "output_type": "execute_result"
    }
   ],
   "source": [
    "#check the shape of train test split\n",
    "x_train.shape, x_test.shape, y_train.shape, y_test.shape"
   ]
  },
  {
   "cell_type": "code",
   "execution_count": 80,
   "id": "5cb9f2a8",
   "metadata": {},
   "outputs": [
    {
     "name": "stdout",
     "output_type": "stream",
     "text": [
      "              precision    recall  f1-score   support\n",
      "\n",
      "           0       0.96      0.84      0.89     18155\n",
      "           1       0.85      0.96      0.91     17997\n",
      "\n",
      "    accuracy                           0.90     36152\n",
      "   macro avg       0.91      0.90      0.90     36152\n",
      "weighted avg       0.91      0.90      0.90     36152\n",
      "\n",
      "              precision    recall  f1-score   support\n",
      "\n",
      "           0       0.92      0.78      0.84      4440\n",
      "           1       0.81      0.93      0.87      4598\n",
      "\n",
      "    accuracy                           0.86      9038\n",
      "   macro avg       0.87      0.86      0.86      9038\n",
      "weighted avg       0.86      0.86      0.86      9038\n",
      "\n"
     ]
    }
   ],
   "source": [
    "#Train result\n",
    "KNN = KNeighborsClassifier()\n",
    "KNN.fit(x_train, y_train)\n",
    "y_pred =KNN .predict(x_train)\n",
    "accuracy = classification_report(y_train, y_pred)\n",
    "print(accuracy)\n",
    "\n",
    "\n",
    "\n",
    "#Test result\n",
    "KNN = KNeighborsClassifier()\n",
    "KNN.fit(x_train, y_train)\n",
    "y_pred =KNN .predict(x_test)\n",
    "accuracy = classification_report(y_test, y_pred)\n",
    "print(accuracy)\n"
   ]
  },
  {
   "cell_type": "code",
   "execution_count": 81,
   "id": "f437e4d7",
   "metadata": {},
   "outputs": [
    {
     "name": "stdout",
     "output_type": "stream",
     "text": [
      "Training accuracy:: 0.8994523124585085\n",
      "Test accuracy:: 0.8566054436822306\n"
     ]
    }
   ],
   "source": [
    "print(\"Training accuracy::\",KNN.score(x_train,y_train))\n",
    "print(\"Test accuracy::\",KNN.score(x_test,y_test))"
   ]
  },
  {
   "cell_type": "code",
   "execution_count": 82,
   "id": "45f2a6bd",
   "metadata": {},
   "outputs": [
    {
     "name": "stdout",
     "output_type": "stream",
     "text": [
      "0.8563401668970733\n"
     ]
    }
   ],
   "source": [
    "print(cross_val_score(KNN,x,y,cv=3).mean())"
   ]
  },
  {
   "cell_type": "code",
   "execution_count": 83,
   "id": "9fb49b45",
   "metadata": {},
   "outputs": [
    {
     "data": {
      "image/png": "[encoded data removed]",
      "text/plain": [
       "<Figure size 432x288 with 1 Axes>"
      ]
     },
     "metadata": {
      "needs_background": "light"
     },
     "output_type": "display_data"
    },
    {
     "name": "stdout",
     "output_type": "stream",
     "text": [
      "The Score for the ROC AUC Curve is : 85.53%\n"
     ]
    }
   ],
   "source": [
    "#roc_curve plot to check the socre of knn\n",
    "fpr, tpr, _= roc_curve(y_test, y_pred)\n",
    "auc_score = roc_auc_score(y_test, y_pred)\n",
    "plt.plot(fpr, tpr, label=\"auc=\"+str(auc_score))\n",
    "plt.box(True)\n",
    "plt.title('ROC CURVE KNN')\n",
    "plt.xlabel('False Positive Rate')\n",
    "plt.ylabel('True Positive Rate')\n",
    "plt.legend(loc=4)\n",
    "plt.grid(True)\n",
    "plt.show()\n",
    "print('The Score for the ROC AUC Curve is : {}%'.format(round(auc_score,4)*100))"
   ]
  },
  {
   "cell_type": "code",
   "execution_count": 84,
   "id": "0665239d",
   "metadata": {},
   "outputs": [
    {
     "name": "stdout",
     "output_type": "stream",
     "text": [
      "              precision    recall  f1-score   support\n",
      "\n",
      "           0       1.00      1.00      1.00     18155\n",
      "           1       1.00      1.00      1.00     17997\n",
      "\n",
      "    accuracy                           1.00     36152\n",
      "   macro avg       1.00      1.00      1.00     36152\n",
      "weighted avg       1.00      1.00      1.00     36152\n",
      "\n",
      "              precision    recall  f1-score   support\n",
      "\n",
      "           0       0.91      0.89      0.90      4440\n",
      "           1       0.90      0.91      0.91      4598\n",
      "\n",
      "    accuracy                           0.90      9038\n",
      "   macro avg       0.90      0.90      0.90      9038\n",
      "weighted avg       0.90      0.90      0.90      9038\n",
      "\n"
     ]
    }
   ],
   "source": [
    "#train result\n",
    "RFC = RandomForestClassifier()\n",
    "RFC.fit(x_train, y_train)\n",
    "y_pred =RFC .predict(x_train)\n",
    "accuracy = classification_report(y_train, y_pred)\n",
    "print(accuracy)\n",
    "\n",
    "\n",
    "\n",
    "#test result\n",
    "RFC = RandomForestClassifier()\n",
    "RFC.fit(x_train, y_train)\n",
    "y_pred =RFC .predict(x_test)\n",
    "accuracy = classification_report(y_test, y_pred)\n",
    "print(accuracy)\n"
   ]
  },
  {
   "cell_type": "code",
   "execution_count": 85,
   "id": "ffc9acf5",
   "metadata": {},
   "outputs": [
    {
     "name": "stdout",
     "output_type": "stream",
     "text": [
      "Training accuracy:: 0.9999723390130559\n",
      "Test accuracy:: 0.9027439699048462\n"
     ]
    }
   ],
   "source": [
    "print(\"Training accuracy::\",RFC.score(x_train,y_train))\n",
    "print(\"Test accuracy::\",RFC.score(x_test,y_test))"
   ]
  },
  {
   "cell_type": "code",
   "execution_count": 86,
   "id": "53689c88",
   "metadata": {},
   "outputs": [
    {
     "name": "stdout",
     "output_type": "stream",
     "text": [
      "0.8995795529984509\n"
     ]
    }
   ],
   "source": [
    "print(cross_val_score(RFC,x,y,cv=5).mean())"
   ]
  },
  {
   "cell_type": "code",
   "execution_count": 87,
   "id": "6995f8a6",
   "metadata": {},
   "outputs": [
    {
     "data": {
      "image/png": "[encoded data removed]",
      "text/plain": [
       "<Figure size 432x288 with 1 Axes>"
      ]
     },
     "metadata": {
      "needs_background": "light"
     },
     "output_type": "display_data"
    },
    {
     "name": "stdout",
     "output_type": "stream",
     "text": [
      "The Score for the ROC Curve is : 90.25999999999999%\n"
     ]
    }
   ],
   "source": [
    "#roc_curve plot to check the socre of RFC\n",
    "fpr, tpr, _= roc_curve(y_test, y_pred)\n",
    "auc_score = roc_auc_score(y_test, y_pred)\n",
    "plt.plot(fpr, tpr, label=\"auc=\"+str(auc_score))\n",
    "plt.box(True)\n",
    "plt.title('ROC CURVE RFC')\n",
    "plt.xlabel('False Positive Rate')\n",
    "plt.ylabel('True Positive Rate')\n",
    "plt.legend(loc=4)\n",
    "plt.grid(True)\n",
    "plt.show()\n",
    "print('The Score for the ROC Curve is : {}%'.format(round(auc_score,4)*100))"
   ]
  },
  {
   "cell_type": "code",
   "execution_count": 88,
   "id": "5527f908",
   "metadata": {},
   "outputs": [
    {
     "name": "stdout",
     "output_type": "stream",
     "text": [
      "              precision    recall  f1-score   support\n",
      "\n",
      "           0       1.00      1.00      1.00     18155\n",
      "           1       1.00      1.00      1.00     17997\n",
      "\n",
      "    accuracy                           1.00     36152\n",
      "   macro avg       1.00      1.00      1.00     36152\n",
      "weighted avg       1.00      1.00      1.00     36152\n",
      "\n",
      "              precision    recall  f1-score   support\n",
      "\n",
      "           0       0.85      0.85      0.85      4440\n",
      "           1       0.86      0.85      0.86      4598\n",
      "\n",
      "    accuracy                           0.85      9038\n",
      "   macro avg       0.85      0.85      0.85      9038\n",
      "weighted avg       0.85      0.85      0.85      9038\n",
      "\n"
     ]
    }
   ],
   "source": [
    "#train result\n",
    "DecisionTree = DecisionTreeClassifier()\n",
    "DecisionTree.fit(x_train, y_train)\n",
    "y_pred =DecisionTree .predict(x_train)\n",
    "accuracy = classification_report(y_train, y_pred)\n",
    "print(accuracy)\n",
    "\n",
    "\n",
    "#test result\n",
    "DecisionTree = DecisionTreeClassifier()\n",
    "DecisionTree.fit(x_train, y_train)\n",
    "y_pred =DecisionTree .predict(x_test)\n",
    "accuracy = classification_report(y_test, y_pred)\n",
    "print(accuracy)\n"
   ]
  },
  {
   "cell_type": "code",
   "execution_count": 89,
   "id": "aa6f126f",
   "metadata": {},
   "outputs": [
    {
     "name": "stdout",
     "output_type": "stream",
     "text": [
      "Training accuracy:: 0.9999723390130559\n",
      "Test accuracy:: 0.8529541934056207\n"
     ]
    }
   ],
   "source": [
    "print(\"Training accuracy::\",DecisionTree.score(x_train,y_train))\n",
    "print(\"Test accuracy::\",DecisionTree.score(x_test,y_test))"
   ]
  },
  {
   "cell_type": "code",
   "execution_count": 90,
   "id": "e603e742",
   "metadata": {},
   "outputs": [
    {
     "name": "stdout",
     "output_type": "stream",
     "text": [
      "0.8554326178358045\n"
     ]
    }
   ],
   "source": [
    "print(cross_val_score(DecisionTree,x,y,cv=5).mean())"
   ]
  },
  {
   "cell_type": "code",
   "execution_count": 91,
   "id": "24fa07de",
   "metadata": {},
   "outputs": [
    {
     "data": {
      "image/png": "[encoded data removed]",
      "text/plain": [
       "<Figure size 432x288 with 1 Axes>"
      ]
     },
     "metadata": {
      "needs_background": "light"
     },
     "output_type": "display_data"
    },
    {
     "name": "stdout",
     "output_type": "stream",
     "text": [
      "The Score for the ROC Curve is : 85.3%\n"
     ]
    }
   ],
   "source": [
    "#roc_curve plot to check the socre of Decisiontree\n",
    "fpr, tpr, _= roc_curve(y_test, y_pred)\n",
    "auc_score = roc_auc_score(y_test, y_pred)\n",
    "plt.plot(fpr, tpr, label=\"auc=\"+str(auc_score))\n",
    "plt.box(True)\n",
    "plt.title('ROC CURVE DecisionTree')\n",
    "plt.xlabel('False Positive Rate')\n",
    "plt.ylabel('True Positive Rate')\n",
    "plt.legend(loc=4)\n",
    "plt.grid(True)\n",
    "plt.show()\n",
    "print('The Score for the ROC Curve is : {}%'.format(round(auc_score,4)*100))"
   ]
  },
  {
   "cell_type": "code",
   "execution_count": 92,
   "id": "cdfa55fa",
   "metadata": {},
   "outputs": [
    {
     "name": "stdout",
     "output_type": "stream",
     "text": [
      "              precision    recall  f1-score   support\n",
      "\n",
      "           0       0.77      0.77      0.77     18155\n",
      "           1       0.77      0.77      0.77     17997\n",
      "\n",
      "    accuracy                           0.77     36152\n",
      "   macro avg       0.77      0.77      0.77     36152\n",
      "weighted avg       0.77      0.77      0.77     36152\n",
      "\n",
      "              precision    recall  f1-score   support\n",
      "\n",
      "           0       0.77      0.78      0.77      4440\n",
      "           1       0.78      0.77      0.78      4598\n",
      "\n",
      "    accuracy                           0.78      9038\n",
      "   macro avg       0.78      0.78      0.78      9038\n",
      "weighted avg       0.78      0.78      0.78      9038\n",
      "\n"
     ]
    }
   ],
   "source": [
    "#train result\n",
    "LR = LogisticRegression()\n",
    "LR.fit(x_train, y_train)\n",
    "y_pred =LR .predict(x_train)\n",
    "accuracy = classification_report(y_train, y_pred)\n",
    "print(accuracy)\n",
    "\n",
    "\n",
    "\n",
    "#test result\n",
    "LR = LogisticRegression()\n",
    "LR.fit(x_train, y_train)\n",
    "y_pred =LR .predict(x_test)\n",
    "accuracy = classification_report(y_test, y_pred)\n",
    "print(accuracy)\n"
   ]
  },
  {
   "cell_type": "code",
   "execution_count": 93,
   "id": "a610496c",
   "metadata": {},
   "outputs": [
    {
     "name": "stdout",
     "output_type": "stream",
     "text": [
      "Training accuracy:: 0.7726820092940916\n",
      "Test accuracy:: 0.7750608541712768\n"
     ]
    }
   ],
   "source": [
    "print(\"Training accuracy::\",LR.score(x_train,y_train))\n",
    "print(\"Test accuracy::\",LR.score(x_test,y_test))"
   ]
  },
  {
   "cell_type": "code",
   "execution_count": 94,
   "id": "23884244",
   "metadata": {},
   "outputs": [
    {
     "name": "stdout",
     "output_type": "stream",
     "text": [
      "0.7725603009515379\n"
     ]
    }
   ],
   "source": [
    "print(cross_val_score(LR,x,y,cv=5).mean())"
   ]
  },
  {
   "cell_type": "code",
   "execution_count": 95,
   "id": "e33e85c6",
   "metadata": {},
   "outputs": [
    {
     "data": {
      "image/png": "[encoded data removed]",
      "text/plain": [
       "<Figure size 432x288 with 1 Axes>"
      ]
     },
     "metadata": {
      "needs_background": "light"
     },
     "output_type": "display_data"
    },
    {
     "name": "stdout",
     "output_type": "stream",
     "text": [
      "The Score for the ROC Curve is : 77.51%\n"
     ]
    }
   ],
   "source": [
    "#roc_curve plot to check the socre of LogesticRegression\n",
    "fpr, tpr, _= roc_curve(y_test, y_pred)\n",
    "auc_score = roc_auc_score(y_test, y_pred)\n",
    "plt.plot(fpr, tpr, label=\"auc=\"+str(auc_score))\n",
    "plt.box(True)\n",
    "plt.title('ROC CURVE LR')\n",
    "plt.xlabel('False Positive Rate')\n",
    "plt.ylabel('True Positive Rate')\n",
    "plt.legend(loc=4)\n",
    "plt.grid(True)\n",
    "plt.show()\n",
    "print('The Score for the ROC Curve is : {}%'.format(round(auc_score,4)*100))"
   ]
  },
  {
   "cell_type": "markdown",
   "id": "252c9c48",
   "metadata": {},
   "source": [
    "# ENSEMBLE TECHNIQUES"
   ]
  },
  {
   "cell_type": "code",
   "execution_count": 96,
   "id": "a8096141",
   "metadata": {},
   "outputs": [
    {
     "name": "stdout",
     "output_type": "stream",
     "text": [
      "              precision    recall  f1-score   support\n",
      "\n",
      "           0       0.87      0.83      0.85     18155\n",
      "           1       0.84      0.88      0.86     17997\n",
      "\n",
      "    accuracy                           0.85     36152\n",
      "   macro avg       0.85      0.85      0.85     36152\n",
      "weighted avg       0.85      0.85      0.85     36152\n",
      "\n",
      "              precision    recall  f1-score   support\n",
      "\n",
      "           0       0.86      0.83      0.84      4440\n",
      "           1       0.84      0.87      0.86      4598\n",
      "\n",
      "    accuracy                           0.85      9038\n",
      "   macro avg       0.85      0.85      0.85      9038\n",
      "weighted avg       0.85      0.85      0.85      9038\n",
      "\n"
     ]
    }
   ],
   "source": [
    "#train result\n",
    "adb = AdaBoostClassifier()\n",
    "adb.fit(x_train, y_train)\n",
    "y_pred =adb .predict(x_train)\n",
    "accuracy = classification_report(y_train, y_pred)\n",
    "print(accuracy)\n",
    "\n",
    "\n",
    "\n",
    "#test result\n",
    "adb = AdaBoostClassifier()\n",
    "adb.fit(x_train, y_train)\n",
    "y_pred =adb .predict(x_test)\n",
    "accuracy = classification_report(y_test, y_pred)\n",
    "print(accuracy)\n"
   ]
  },
  {
   "cell_type": "code",
   "execution_count": 97,
   "id": "bc6d4963",
   "metadata": {},
   "outputs": [
    {
     "name": "stdout",
     "output_type": "stream",
     "text": [
      "Training accuracy:: 0.8526222615622926\n",
      "Test accuracy:: 0.8501880947112193\n"
     ]
    }
   ],
   "source": [
    "print(\"Training accuracy::\",adb.score(x_train,y_train))\n",
    "print(\"Test accuracy::\",adb.score(x_test,y_test))"
   ]
  },
  {
   "cell_type": "code",
   "execution_count": 98,
   "id": "7a7b0536",
   "metadata": {},
   "outputs": [
    {
     "name": "stdout",
     "output_type": "stream",
     "text": [
      "0.8509847311352068\n"
     ]
    }
   ],
   "source": [
    "print(cross_val_score(adb,x,y,cv=10).mean())"
   ]
  },
  {
   "cell_type": "code",
   "execution_count": 99,
   "id": "fcf307f3",
   "metadata": {},
   "outputs": [
    {
     "data": {
      "image/png": "[encoded data removed]",
      "text/plain": [
       "<Figure size 432x288 with 1 Axes>"
      ]
     },
     "metadata": {
      "needs_background": "light"
     },
     "output_type": "display_data"
    },
    {
     "name": "stdout",
     "output_type": "stream",
     "text": [
      "The Score for the ROC Curve is : 84.98%\n"
     ]
    }
   ],
   "source": [
    "#roc_curve plot to check the socre of AdaBoostClassifier\n",
    "fpr, tpr, _= roc_curve(y_test, y_pred)\n",
    "auc_score = roc_auc_score(y_test, y_pred)\n",
    "plt.plot(fpr, tpr, label=\"auc=\"+str(auc_score))\n",
    "plt.box(True)\n",
    "plt.title('ROC CURVE adb')\n",
    "plt.xlabel('False Positive Rate')\n",
    "plt.ylabel('True Positive Rate')\n",
    "plt.legend(loc=4)\n",
    "plt.grid(True)\n",
    "plt.show()\n",
    "print('The Score for the ROC Curve is : {}%'.format(round(auc_score,4)*100))"
   ]
  },
  {
   "cell_type": "code",
   "execution_count": 100,
   "id": "e02fb259",
   "metadata": {},
   "outputs": [
    {
     "name": "stdout",
     "output_type": "stream",
     "text": [
      "              precision    recall  f1-score   support\n",
      "\n",
      "           0       0.89      0.85      0.87     18155\n",
      "           1       0.85      0.90      0.87     17997\n",
      "\n",
      "    accuracy                           0.87     36152\n",
      "   macro avg       0.87      0.87      0.87     36152\n",
      "weighted avg       0.87      0.87      0.87     36152\n",
      "\n",
      "              precision    recall  f1-score   support\n",
      "\n",
      "           0       0.88      0.84      0.86      4440\n",
      "           1       0.85      0.89      0.87      4598\n",
      "\n",
      "    accuracy                           0.86      9038\n",
      "   macro avg       0.86      0.86      0.86      9038\n",
      "weighted avg       0.86      0.86      0.86      9038\n",
      "\n"
     ]
    }
   ],
   "source": [
    "#train result\n",
    "gbc = GradientBoostingClassifier()\n",
    "gbc.fit(x_train, y_train)\n",
    "y_pred =gbc .predict(x_train)\n",
    "accuracy = classification_report(y_train, y_pred)\n",
    "print(accuracy)\n",
    "\n",
    "\n",
    "\n",
    "#test result\n",
    "gbc = GradientBoostingClassifier()\n",
    "gbc.fit(x_train, y_train)\n",
    "y_pred =gbc .predict(x_test)\n",
    "accuracy = classification_report(y_test, y_pred)\n",
    "print(accuracy)\n"
   ]
  },
  {
   "cell_type": "code",
   "execution_count": 101,
   "id": "e4e4027c",
   "metadata": {},
   "outputs": [
    {
     "name": "stdout",
     "output_type": "stream",
     "text": [
      "Training accuracy:: 0.8704082761672937\n",
      "Test accuracy:: 0.8639079442354504\n"
     ]
    }
   ],
   "source": [
    "print(\"Training accuracy::\",gbc.score(x_train,y_train))\n",
    "print(\"Test accuracy::\",gbc.score(x_test,y_test))"
   ]
  },
  {
   "cell_type": "code",
   "execution_count": 102,
   "id": "552061b0",
   "metadata": {},
   "outputs": [
    {
     "name": "stdout",
     "output_type": "stream",
     "text": [
      "0.862425315335251\n"
     ]
    }
   ],
   "source": [
    "print(cross_val_score(gbc,x,y,cv=5).mean())"
   ]
  },
  {
   "cell_type": "code",
   "execution_count": 103,
   "id": "5a58a860",
   "metadata": {},
   "outputs": [
    {
     "data": {
      "image/png": "[encoded data removed]",
      "text/plain": [
       "<Figure size 432x288 with 1 Axes>"
      ]
     },
     "metadata": {
      "needs_background": "light"
     },
     "output_type": "display_data"
    },
    {
     "name": "stdout",
     "output_type": "stream",
     "text": [
      "The Score for the ROC Curve is : 86.33999999999999%\n"
     ]
    }
   ],
   "source": [
    "#roc_curve plot to check the socre of GradientBoostClassifier\n",
    "fpr, tpr, _= roc_curve(y_test, y_pred)\n",
    "auc_score = roc_auc_score(y_test, y_pred)\n",
    "plt.plot(fpr, tpr, label=\"auc=\"+str(auc_score))\n",
    "plt.box(True)\n",
    "plt.title('ROC CURVE gbc')\n",
    "plt.xlabel('False Positive Rate')\n",
    "plt.ylabel('True Positive Rate')\n",
    "plt.legend(loc=4)\n",
    "plt.grid(True)\n",
    "plt.show()\n",
    "print('The Score for the ROC Curve is : {}%'.format(round(auc_score,4)*100))"
   ]
  },
  {
   "cell_type": "markdown",
   "id": "c1e90eb5",
   "metadata": {},
   "source": [
    "inding the difference of F1 Score accuracy and cross validation score accuracy and the random forest model is having less difference is considered as best model and applying Hyper parameter tuning to increase the accuracy of that model."
   ]
  },
  {
   "cell_type": "markdown",
   "id": "fdd757a6",
   "metadata": {},
   "source": [
    "# HyperParametr Tuning"
   ]
  },
  {
   "cell_type": "code",
   "execution_count": 107,
   "id": "ddd8179d",
   "metadata": {},
   "outputs": [],
   "source": [
    "params ={'max_depth':list(range(200,400,50)),\n",
    "            'n_estimators':list(range(10,120,20)),\n",
    "            'max_features': ['auto', 'sqrt', 'log2'],      \n",
    "         }"
   ]
  },
  {
   "cell_type": "code",
   "execution_count": 108,
   "id": "7b8e2376",
   "metadata": {},
   "outputs": [],
   "source": [
    "model=RandomForestClassifier()"
   ]
  },
  {
   "cell_type": "code",
   "execution_count": 109,
   "id": "8ae1c93f",
   "metadata": {},
   "outputs": [],
   "source": [
    "grid_clf=GridSearchCV(model,params,verbose=4,refit=True,n_jobs = -1)"
   ]
  },
  {
   "cell_type": "code",
   "execution_count": 110,
   "id": "2cf93b49",
   "metadata": {},
   "outputs": [
    {
     "name": "stdout",
     "output_type": "stream",
     "text": [
      "Fitting 5 folds for each of 72 candidates, totalling 360 fits\n"
     ]
    },
    {
     "data": {
      "text/plain": [
       "GridSearchCV(estimator=RandomForestClassifier(), n_jobs=-1,\n",
       "             param_grid={'max_depth': [200, 250, 300, 350],\n",
       "                         'max_features': ['auto', 'sqrt', 'log2'],\n",
       "                         'n_estimators': [10, 30, 50, 70, 90, 110]},\n",
       "             verbose=4)"
      ]
     },
     "execution_count": 110,
     "metadata": {},
     "output_type": "execute_result"
    }
   ],
   "source": [
    "grid_clf.fit(x_train, y_train)"
   ]
  },
  {
   "cell_type": "code",
   "execution_count": 111,
   "id": "c0c201e4",
   "metadata": {},
   "outputs": [
    {
     "name": "stdout",
     "output_type": "stream",
     "text": [
      "RandomForestClassifier(max_depth=300, max_features='sqrt', n_estimators=110)\n"
     ]
    }
   ],
   "source": [
    "final_model=grid_clf.best_estimator_\n",
    "print(final_model)"
   ]
  },
  {
   "cell_type": "code",
   "execution_count": 112,
   "id": "3890a2be",
   "metadata": {},
   "outputs": [
    {
     "name": "stdout",
     "output_type": "stream",
     "text": [
      "{'max_depth': 300, 'max_features': 'sqrt', 'n_estimators': 110}\n"
     ]
    }
   ],
   "source": [
    "final_model=grid_clf.best_params_\n",
    "print(final_model)"
   ]
  },
  {
   "cell_type": "code",
   "execution_count": 113,
   "id": "bcf45e94",
   "metadata": {},
   "outputs": [
    {
     "name": "stdout",
     "output_type": "stream",
     "text": [
      "0.8943350485165205\n"
     ]
    }
   ],
   "source": [
    "final_model=grid_clf.best_score_\n",
    "print(final_model)"
   ]
  },
  {
   "cell_type": "code",
   "execution_count": 114,
   "id": "56529eda",
   "metadata": {},
   "outputs": [
    {
     "data": {
      "text/plain": [
       "0.9017481743748617"
      ]
     },
     "execution_count": 114,
     "metadata": {},
     "output_type": "execute_result"
    }
   ],
   "source": [
    "final_model = RandomForestClassifier(n_estimators=110 , max_features = 'log2', max_depth = 350)                              \n",
    "final_model.fit(x_train,y_train)\n",
    "final_model.score(x_test,y_test)"
   ]
  },
  {
   "cell_type": "code",
   "execution_count": 115,
   "id": "09d7f01c",
   "metadata": {},
   "outputs": [],
   "source": [
    "y_pred=final_model.predict(x_test)"
   ]
  },
  {
   "cell_type": "code",
   "execution_count": 116,
   "id": "2e2a9c73",
   "metadata": {},
   "outputs": [
    {
     "data": {
      "text/plain": [
       "0.9017481743748617"
      ]
     },
     "execution_count": 116,
     "metadata": {},
     "output_type": "execute_result"
    }
   ],
   "source": [
    "accuracy_score(y_test,y_pred)"
   ]
  },
  {
   "cell_type": "code",
   "execution_count": 117,
   "id": "055c94a9",
   "metadata": {},
   "outputs": [
    {
     "name": "stdout",
     "output_type": "stream",
     "text": [
      "0.898628015047577\n"
     ]
    }
   ],
   "source": [
    "print(cross_val_score(RFC,x,y,cv=5).mean())"
   ]
  },
  {
   "cell_type": "code",
   "execution_count": 118,
   "id": "4a2f0ee9",
   "metadata": {},
   "outputs": [
    {
     "data": {
      "image/png": "[encoded data removed]",
      "text/plain": [
       "<Figure size 432x288 with 1 Axes>"
      ]
     },
     "metadata": {
      "needs_background": "light"
     },
     "output_type": "display_data"
    },
    {
     "name": "stdout",
     "output_type": "stream",
     "text": [
      "The Score for the ROC Curve is : 90.14999999999999%\n"
     ]
    }
   ],
   "source": [
    "#roc_curve plot to check the socre of RFC\n",
    "fpr, tpr, _= roc_curve(y_test, y_pred)\n",
    "auc_score = roc_auc_score(y_test, y_pred)\n",
    "plt.plot(fpr, tpr, label=\"auc=\"+str(auc_score))\n",
    "plt.box(True)\n",
    "plt.title('ROC CURVE RFC')\n",
    "plt.xlabel('False Positive Rate')\n",
    "plt.ylabel('True Positive Rate')\n",
    "plt.legend(loc=4)\n",
    "plt.grid(True)\n",
    "plt.show()\n",
    "print('The Score for the ROC Curve is : {}%'.format(round(auc_score,4)*100))"
   ]
  },
  {
   "cell_type": "markdown",
   "id": "81f7b7ae",
   "metadata": {},
   "source": [
    "After hyper parameter our final model is icreased to 91% accuracy"
   ]
  },
  {
   "cell_type": "code",
   "execution_count": 120,
   "id": "31f7fdd0",
   "metadata": {},
   "outputs": [
    {
     "data": {
      "text/plain": [
       "['Census_Income_Project']"
      ]
     },
     "execution_count": 120,
     "metadata": {},
     "output_type": "execute_result"
    }
   ],
   "source": [
    "import joblib\n",
    "joblib.dump(final_model,\"Census_Income_Project\")"
   ]
  },
  {
   "cell_type": "code",
   "execution_count": null,
   "id": "a21929a0",
   "metadata": {},
   "outputs": [],
   "source": []
  },
  {
   "cell_type": "code",
   "execution_count": null,
   "id": "fbb62d1d",
   "metadata": {},
   "outputs": [],
   "source": []
  }
 ],
 "metadata": {
  "kernelspec": {
   "display_name": "Python 3",
   "language": "python",
   "name": "python3"
  },
  "language_info": {
   "codemirror_mode": {
    "name": "ipython",
    "version": 3
   },
   "file_extension": ".py",
   "mimetype": "text/x-python",
   "name": "python",
   "nbconvert_exporter": "python",
   "pygments_lexer": "ipython3",
   "version": "3.8.8"
  }
 },
 "nbformat": 4,
 "nbformat_minor": 5
}
